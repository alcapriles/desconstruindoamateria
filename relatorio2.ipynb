{
 "cells": [
  {
   "cell_type": "markdown",
   "metadata": {},
   "source": [
    "## Laboratórios 2 a 4 - Job Rotation\n",
    "## Ensaio de Tração - Determinação do Módulo de Young e do Limite de Escoamento do Alumínio 6351 T6"
   ]
  },
  {
   "cell_type": "markdown",
   "metadata": {},
   "source": [
    "### ASTM Standard E8/E8M"
   ]
  },
  {
   "cell_type": "code",
   "execution_count": 1,
   "metadata": {
    "collapsed": true
   },
   "outputs": [],
   "source": [
    "import pandas as pd\n",
    "%matplotlib inline\n",
    "import matplotlib.pyplot as plt\n",
    "import matplotlib\n",
    "import numpy as np"
   ]
  },
  {
   "cell_type": "code",
   "execution_count": 2,
   "metadata": {
    "collapsed": false
   },
   "outputs": [],
   "source": [
    "ensaio1 = pd.read_csv('acoAF1.csv', encoding = \"ISO-8859-1\")\n",
    "ensaio2 = pd.read_csv('acoAF2.csv', encoding = \"ISO-8859-1\")"
   ]
  },
  {
   "cell_type": "markdown",
   "metadata": {},
   "source": [
    "## Área da seção transversal dos corpos de prova (mm^2):"
   ]
  },
  {
   "cell_type": "code",
   "execution_count": 3,
   "metadata": {
    "collapsed": true
   },
   "outputs": [],
   "source": [
    "area = 58.088"
   ]
  },
  {
   "cell_type": "markdown",
   "metadata": {},
   "source": [
    "## Inserção da coluna com o valor da tensão (MPa):"
   ]
  },
  {
   "cell_type": "code",
   "execution_count": 4,
   "metadata": {
    "collapsed": true
   },
   "outputs": [],
   "source": [
    "ensaio1.insert(4,'Tensão',ensaio1[\"Force (N)\"]/area) \n",
    "ensaio2.insert(4,'Tensão',ensaio2[\"Force (N)\"]/area) "
   ]
  },
  {
   "cell_type": "markdown",
   "metadata": {
    "collapsed": false
   },
   "source": [
    "## Inserção da coluna com o valor da deformação absoluta"
   ]
  },
  {
   "cell_type": "code",
   "execution_count": 5,
   "metadata": {
    "collapsed": true
   },
   "outputs": [],
   "source": [
    "ensaio1.insert(5, 'Abs Strain', ensaio1['Strain (%)']/100)\n",
    "ensaio2.insert(5, 'Abs Strain', ensaio2['Strain (%)']/100)"
   ]
  },
  {
   "cell_type": "code",
   "execution_count": 6,
   "metadata": {
    "collapsed": false
   },
   "outputs": [
    {
     "data": {
      "text/html": [
       "<div>\n",
       "<table border=\"1\" class=\"dataframe\">\n",
       "  <thead>\n",
       "    <tr style=\"text-align: right;\">\n",
       "      <th></th>\n",
       "      <th>Position (mm)</th>\n",
       "      <th>Force (N)</th>\n",
       "      <th>Strain (%)</th>\n",
       "      <th>Time (min)</th>\n",
       "      <th>Tensão</th>\n",
       "      <th>Abs Strain</th>\n",
       "    </tr>\n",
       "  </thead>\n",
       "  <tbody>\n",
       "    <tr>\n",
       "      <th>0</th>\n",
       "      <td>0.0000</td>\n",
       "      <td>3.33</td>\n",
       "      <td>-0.119</td>\n",
       "      <td>0.00274</td>\n",
       "      <td>0.057327</td>\n",
       "      <td>-0.00119</td>\n",
       "    </tr>\n",
       "    <tr>\n",
       "      <th>1</th>\n",
       "      <td>0.0400</td>\n",
       "      <td>30.00</td>\n",
       "      <td>-0.114</td>\n",
       "      <td>0.00709</td>\n",
       "      <td>0.516458</td>\n",
       "      <td>-0.00114</td>\n",
       "    </tr>\n",
       "    <tr>\n",
       "      <th>2</th>\n",
       "      <td>0.0520</td>\n",
       "      <td>30.00</td>\n",
       "      <td>-0.112</td>\n",
       "      <td>0.01140</td>\n",
       "      <td>0.516458</td>\n",
       "      <td>-0.00112</td>\n",
       "    </tr>\n",
       "    <tr>\n",
       "      <th>3</th>\n",
       "      <td>0.0560</td>\n",
       "      <td>31.70</td>\n",
       "      <td>-0.111</td>\n",
       "      <td>0.01570</td>\n",
       "      <td>0.545724</td>\n",
       "      <td>-0.00111</td>\n",
       "    </tr>\n",
       "    <tr>\n",
       "      <th>4</th>\n",
       "      <td>0.0608</td>\n",
       "      <td>31.70</td>\n",
       "      <td>-0.111</td>\n",
       "      <td>0.02000</td>\n",
       "      <td>0.545724</td>\n",
       "      <td>-0.00111</td>\n",
       "    </tr>\n",
       "  </tbody>\n",
       "</table>\n",
       "</div>"
      ],
      "text/plain": [
       "   Position (mm)  Force (N)  Strain (%)  Time (min)    Tensão  Abs Strain\n",
       "0         0.0000       3.33      -0.119     0.00274  0.057327    -0.00119\n",
       "1         0.0400      30.00      -0.114     0.00709  0.516458    -0.00114\n",
       "2         0.0520      30.00      -0.112     0.01140  0.516458    -0.00112\n",
       "3         0.0560      31.70      -0.111     0.01570  0.545724    -0.00111\n",
       "4         0.0608      31.70      -0.111     0.02000  0.545724    -0.00111"
      ]
     },
     "execution_count": 6,
     "metadata": {},
     "output_type": "execute_result"
    }
   ],
   "source": [
    "ensaio1.head()"
   ]
  },
  {
   "cell_type": "code",
   "execution_count": 7,
   "metadata": {
    "collapsed": false
   },
   "outputs": [
    {
     "name": "stdout",
     "output_type": "stream",
     "text": [
      "Primeiro ensaio: 216638.292152\n",
      "Segundo ensaio: 223748.806636\n"
     ]
    }
   ],
   "source": [
    "regiao_linear_y1 = [ensaio1['Tensão'][i] for i in range(100,500)]\n",
    "regiao_linear_x1 = [ensaio1['Abs Strain'][i] for i in range(100,500)]\n",
    "\n",
    "slope1, intercept = np.polyfit(regiao_linear_x1, regiao_linear_y1, 1)\n",
    "print('Primeiro ensaio:', slope1)\n",
    "\n",
    "regiao_linear_y2 = [ensaio2['Tensão'][i] for i in range(100,500)]\n",
    "regiao_linear_x2 = [ensaio2['Abs Strain'][i] for i in range(100,500)]\n",
    "\n",
    "slope2, intercept = np.polyfit(regiao_linear_x2, regiao_linear_y2, 1)\n",
    "print('Segundo ensaio:', slope2)"
   ]
  },
  {
   "cell_type": "code",
   "execution_count": 8,
   "metadata": {
    "collapsed": false
   },
   "outputs": [
    {
     "data": {
      "text/plain": [
       "[]"
      ]
     },
     "execution_count": 8,
     "metadata": {},
     "output_type": "execute_result"
    }
   ],
   "source": [
    "ensaio1[ensaio1['Abs Strain'] == 0.002].index.tolist()\n",
    "#encontrando em que linha está o valor de deformação de 0,2%"
   ]
  },
  {
   "cell_type": "code",
   "execution_count": 9,
   "metadata": {
    "collapsed": false
   },
   "outputs": [
    {
     "data": {
      "text/html": [
       "<div>\n",
       "<table border=\"1\" class=\"dataframe\">\n",
       "  <thead>\n",
       "    <tr style=\"text-align: right;\">\n",
       "      <th></th>\n",
       "      <th>Position (mm)</th>\n",
       "      <th>Force (N)</th>\n",
       "      <th>Strain (%)</th>\n",
       "      <th>Time (min)</th>\n",
       "      <th>Tensão</th>\n",
       "      <th>Abs Strain</th>\n",
       "    </tr>\n",
       "  </thead>\n",
       "  <tbody>\n",
       "    <tr>\n",
       "      <th>500</th>\n",
       "      <td>2.2</td>\n",
       "      <td>14000.0</td>\n",
       "      <td>0.0085</td>\n",
       "      <td>2.15</td>\n",
       "      <td>241.013634</td>\n",
       "      <td>0.000085</td>\n",
       "    </tr>\n",
       "  </tbody>\n",
       "</table>\n",
       "</div>"
      ],
      "text/plain": [
       "     Position (mm)  Force (N)  Strain (%)  Time (min)      Tensão  Abs Strain\n",
       "500            2.2    14000.0      0.0085        2.15  241.013634    0.000085"
      ]
     },
     "execution_count": 9,
     "metadata": {},
     "output_type": "execute_result"
    }
   ],
   "source": [
    "ensaio1[500:501]"
   ]
  },
  {
   "cell_type": "code",
   "execution_count": 10,
   "metadata": {
    "collapsed": false
   },
   "outputs": [
    {
     "data": {
      "text/html": [
       "<div>\n",
       "<table border=\"1\" class=\"dataframe\">\n",
       "  <thead>\n",
       "    <tr style=\"text-align: right;\">\n",
       "      <th></th>\n",
       "      <th>Position (mm)</th>\n",
       "      <th>Force (N)</th>\n",
       "      <th>Strain (%)</th>\n",
       "      <th>Time (min)</th>\n",
       "      <th>Tensão</th>\n",
       "      <th>Abs Strain</th>\n",
       "    </tr>\n",
       "  </thead>\n",
       "  <tbody>\n",
       "    <tr>\n",
       "      <th>440</th>\n",
       "      <td>1.94</td>\n",
       "      <td>11800.0</td>\n",
       "      <td>-0.00958</td>\n",
       "      <td>1.9</td>\n",
       "      <td>203.140063</td>\n",
       "      <td>-0.000096</td>\n",
       "    </tr>\n",
       "  </tbody>\n",
       "</table>\n",
       "</div>"
      ],
      "text/plain": [
       "     Position (mm)  Force (N)  Strain (%)  Time (min)      Tensão  Abs Strain\n",
       "440           1.94    11800.0    -0.00958         1.9  203.140063   -0.000096"
      ]
     },
     "execution_count": 10,
     "metadata": {},
     "output_type": "execute_result"
    }
   ],
   "source": [
    "ensaio1[440:441]\n",
    "#conferindo"
   ]
  },
  {
   "cell_type": "markdown",
   "metadata": {},
   "source": [
    "### Módulo de Young: inclinação da região linear (regime elástico)"
   ]
  },
  {
   "cell_type": "code",
   "execution_count": 16,
   "metadata": {
    "collapsed": false
   },
   "outputs": [
    {
     "name": "stdout",
     "output_type": "stream",
     "text": [
      "216638.292152\n",
      "223748.806636\n"
     ]
    },
    {
     "data": {
      "image/png": "[encoded data removed]",
      "text/plain": [
       "<matplotlib.figure.Figure at 0x235dfa83cc0>"
      ]
     },
     "metadata": {},
     "output_type": "display_data"
    }
   ],
   "source": [
    "ensaio1.plot(kind='scatter', x='Abs Strain', y='Tensão', figsize=(10,10))\n",
    "plt.axis([0,0.02,0,300])\n",
    "plt.title('Tensão vs. Deformação Percentual - Primeiro Ensaio')\n",
    "plt.xticks(np.arange(0, 0.02, 0.001))\n",
    "plt.yticks(np.arange(0, 300, 10))\n",
    "plt.grid()\n",
    "\n",
    "x_min1, x_max1 = 0.002,0.008\n",
    "y_min1, y_max1 = 0, slope1*(x_max1-x_min1)\n",
    "plt.plot([x_min1, x_max1], [y_min1, y_max1])\n",
    "\n",
    "regiao_linear_y1 = [ensaio1['Tensão'][i] for i in range(100,500)]\n",
    "regiao_linear_x1 = [ensaio1['Abs Strain'][i] for i in range(100,500)]\n",
    "\n",
    "slope1, intercept = np.polyfit(regiao_linear_x1, regiao_linear_y1, 1)\n",
    "print(slope1)\n",
    "\n",
    "regiao_linear_y2 = [ensaio2['Tensão'][i] for i in range(100,500)]\n",
    "regiao_linear_x2 = [ensaio2['Abs Strain'][i] for i in range(100,500)]\n",
    "\n",
    "slope2, intercept = np.polyfit(regiao_linear_x2, regiao_linear_y2, 1)\n",
    "print(slope2)"
   ]
  },
  {
   "cell_type": "code",
   "execution_count": 15,
   "metadata": {
    "collapsed": false
   },
   "outputs": [
    {
     "data": {
      "text/plain": [
       "[<matplotlib.lines.Line2D at 0x235df88c710>]"
      ]
     },
     "execution_count": 15,
     "metadata": {},
     "output_type": "execute_result"
    },
    {
     "data": {
      "image/png": "[encoded data removed]",
      "text/plain": [
       "<matplotlib.figure.Figure at 0x235df7e3b00>"
      ]
     },
     "metadata": {},
     "output_type": "display_data"
    }
   ],
   "source": [
    "ensaio2.plot(kind='scatter', x='Abs Strain', y='Tensão', figsize=(10,10))\n",
    "plt.axis([0,0.02,0,300])\n",
    "plt.title('Tensão vs. Deformação Percentual - Segundo Ensaio')\n",
    "plt.yticks(np.arange(0, 300, 10))\n",
    "plt.xticks(np.arange(0, 0.02, 0.001))\n",
    "plt.grid()\n",
    "\n",
    "x_min2, x_max2 = 0.002,0.008\n",
    "y_min2, y_max2 = 0, slope2*(x_max2-x_min2)\n",
    "plt.plot([x_min2, x_max2], [y_min2, y_max2])"
   ]
  },
  {
   "cell_type": "code",
   "execution_count": 13,
   "metadata": {
    "collapsed": false
   },
   "outputs": [
    {
     "data": {
      "text/html": [
       "<div>\n",
       "<table border=\"1\" class=\"dataframe\">\n",
       "  <thead>\n",
       "    <tr style=\"text-align: right;\">\n",
       "      <th></th>\n",
       "      <th>Position (mm)</th>\n",
       "      <th>Force (N)</th>\n",
       "      <th>Strain (%)</th>\n",
       "      <th>Time (min)</th>\n",
       "      <th>Tensão</th>\n",
       "      <th>Abs Strain</th>\n",
       "    </tr>\n",
       "  </thead>\n",
       "  <tbody>\n",
       "    <tr>\n",
       "      <th>814</th>\n",
       "      <td>3.55</td>\n",
       "      <td>14700.0</td>\n",
       "      <td>0.813</td>\n",
       "      <td>3.51</td>\n",
       "      <td>253.064316</td>\n",
       "      <td>0.00813</td>\n",
       "    </tr>\n",
       "    <tr>\n",
       "      <th>815</th>\n",
       "      <td>3.55</td>\n",
       "      <td>14700.0</td>\n",
       "      <td>0.813</td>\n",
       "      <td>3.51</td>\n",
       "      <td>253.064316</td>\n",
       "      <td>0.00813</td>\n",
       "    </tr>\n",
       "    <tr>\n",
       "      <th>816</th>\n",
       "      <td>3.56</td>\n",
       "      <td>14600.0</td>\n",
       "      <td>0.813</td>\n",
       "      <td>3.51</td>\n",
       "      <td>251.342790</td>\n",
       "      <td>0.00813</td>\n",
       "    </tr>\n",
       "    <tr>\n",
       "      <th>817</th>\n",
       "      <td>3.56</td>\n",
       "      <td>14600.0</td>\n",
       "      <td>0.813</td>\n",
       "      <td>3.52</td>\n",
       "      <td>251.342790</td>\n",
       "      <td>0.00813</td>\n",
       "    </tr>\n",
       "    <tr>\n",
       "      <th>818</th>\n",
       "      <td>3.56</td>\n",
       "      <td>14600.0</td>\n",
       "      <td>0.813</td>\n",
       "      <td>3.52</td>\n",
       "      <td>251.342790</td>\n",
       "      <td>0.00813</td>\n",
       "    </tr>\n",
       "    <tr>\n",
       "      <th>819</th>\n",
       "      <td>3.57</td>\n",
       "      <td>14600.0</td>\n",
       "      <td>0.813</td>\n",
       "      <td>3.53</td>\n",
       "      <td>251.342790</td>\n",
       "      <td>0.00813</td>\n",
       "    </tr>\n",
       "    <tr>\n",
       "      <th>820</th>\n",
       "      <td>3.57</td>\n",
       "      <td>14500.0</td>\n",
       "      <td>0.813</td>\n",
       "      <td>3.53</td>\n",
       "      <td>249.621264</td>\n",
       "      <td>0.00813</td>\n",
       "    </tr>\n",
       "    <tr>\n",
       "      <th>821</th>\n",
       "      <td>3.58</td>\n",
       "      <td>14500.0</td>\n",
       "      <td>0.813</td>\n",
       "      <td>3.54</td>\n",
       "      <td>249.621264</td>\n",
       "      <td>0.00813</td>\n",
       "    </tr>\n",
       "    <tr>\n",
       "      <th>822</th>\n",
       "      <td>3.58</td>\n",
       "      <td>14500.0</td>\n",
       "      <td>0.813</td>\n",
       "      <td>3.54</td>\n",
       "      <td>249.621264</td>\n",
       "      <td>0.00813</td>\n",
       "    </tr>\n",
       "    <tr>\n",
       "      <th>823</th>\n",
       "      <td>3.59</td>\n",
       "      <td>14500.0</td>\n",
       "      <td>0.813</td>\n",
       "      <td>3.54</td>\n",
       "      <td>249.621264</td>\n",
       "      <td>0.00813</td>\n",
       "    </tr>\n",
       "    <tr>\n",
       "      <th>824</th>\n",
       "      <td>3.59</td>\n",
       "      <td>14400.0</td>\n",
       "      <td>0.813</td>\n",
       "      <td>3.55</td>\n",
       "      <td>247.899738</td>\n",
       "      <td>0.00813</td>\n",
       "    </tr>\n",
       "    <tr>\n",
       "      <th>825</th>\n",
       "      <td>3.59</td>\n",
       "      <td>14400.0</td>\n",
       "      <td>0.813</td>\n",
       "      <td>3.55</td>\n",
       "      <td>247.899738</td>\n",
       "      <td>0.00813</td>\n",
       "    </tr>\n",
       "    <tr>\n",
       "      <th>826</th>\n",
       "      <td>3.60</td>\n",
       "      <td>14400.0</td>\n",
       "      <td>0.813</td>\n",
       "      <td>3.56</td>\n",
       "      <td>247.899738</td>\n",
       "      <td>0.00813</td>\n",
       "    </tr>\n",
       "    <tr>\n",
       "      <th>827</th>\n",
       "      <td>3.60</td>\n",
       "      <td>14500.0</td>\n",
       "      <td>0.813</td>\n",
       "      <td>3.56</td>\n",
       "      <td>249.621264</td>\n",
       "      <td>0.00813</td>\n",
       "    </tr>\n",
       "    <tr>\n",
       "      <th>828</th>\n",
       "      <td>3.61</td>\n",
       "      <td>14500.0</td>\n",
       "      <td>0.813</td>\n",
       "      <td>3.57</td>\n",
       "      <td>249.621264</td>\n",
       "      <td>0.00813</td>\n",
       "    </tr>\n",
       "    <tr>\n",
       "      <th>829</th>\n",
       "      <td>3.61</td>\n",
       "      <td>14500.0</td>\n",
       "      <td>0.813</td>\n",
       "      <td>3.57</td>\n",
       "      <td>249.621264</td>\n",
       "      <td>0.00813</td>\n",
       "    </tr>\n",
       "  </tbody>\n",
       "</table>\n",
       "</div>"
      ],
      "text/plain": [
       "     Position (mm)  Force (N)  Strain (%)  Time (min)      Tensão  Abs Strain\n",
       "814           3.55    14700.0       0.813        3.51  253.064316     0.00813\n",
       "815           3.55    14700.0       0.813        3.51  253.064316     0.00813\n",
       "816           3.56    14600.0       0.813        3.51  251.342790     0.00813\n",
       "817           3.56    14600.0       0.813        3.52  251.342790     0.00813\n",
       "818           3.56    14600.0       0.813        3.52  251.342790     0.00813\n",
       "819           3.57    14600.0       0.813        3.53  251.342790     0.00813\n",
       "820           3.57    14500.0       0.813        3.53  249.621264     0.00813\n",
       "821           3.58    14500.0       0.813        3.54  249.621264     0.00813\n",
       "822           3.58    14500.0       0.813        3.54  249.621264     0.00813\n",
       "823           3.59    14500.0       0.813        3.54  249.621264     0.00813\n",
       "824           3.59    14400.0       0.813        3.55  247.899738     0.00813\n",
       "825           3.59    14400.0       0.813        3.55  247.899738     0.00813\n",
       "826           3.60    14400.0       0.813        3.56  247.899738     0.00813\n",
       "827           3.60    14500.0       0.813        3.56  249.621264     0.00813\n",
       "828           3.61    14500.0       0.813        3.57  249.621264     0.00813\n",
       "829           3.61    14500.0       0.813        3.57  249.621264     0.00813"
      ]
     },
     "execution_count": 13,
     "metadata": {},
     "output_type": "execute_result"
    }
   ],
   "source": [
    "ensaio1[814:830]"
   ]
  },
  {
   "cell_type": "code",
   "execution_count": 14,
   "metadata": {
    "collapsed": false
   },
   "outputs": [
    {
     "data": {
      "text/html": [
       "<div>\n",
       "<table border=\"1\" class=\"dataframe\">\n",
       "  <thead>\n",
       "    <tr style=\"text-align: right;\">\n",
       "      <th></th>\n",
       "      <th>Position (mm)</th>\n",
       "      <th>Force (N)</th>\n",
       "      <th>Strain (%)</th>\n",
       "      <th>Time (min)</th>\n",
       "      <th>Tensão</th>\n",
       "      <th>Abs Strain</th>\n",
       "    </tr>\n",
       "  </thead>\n",
       "  <tbody>\n",
       "    <tr>\n",
       "      <th>838</th>\n",
       "      <td>4.14</td>\n",
       "      <td>14600.0</td>\n",
       "      <td>0.913</td>\n",
       "      <td>4.12</td>\n",
       "      <td>251.342790</td>\n",
       "      <td>0.00913</td>\n",
       "    </tr>\n",
       "    <tr>\n",
       "      <th>839</th>\n",
       "      <td>4.14</td>\n",
       "      <td>14600.0</td>\n",
       "      <td>0.913</td>\n",
       "      <td>4.12</td>\n",
       "      <td>251.342790</td>\n",
       "      <td>0.00913</td>\n",
       "    </tr>\n",
       "    <tr>\n",
       "      <th>840</th>\n",
       "      <td>4.15</td>\n",
       "      <td>14600.0</td>\n",
       "      <td>0.913</td>\n",
       "      <td>4.13</td>\n",
       "      <td>251.342790</td>\n",
       "      <td>0.00913</td>\n",
       "    </tr>\n",
       "    <tr>\n",
       "      <th>841</th>\n",
       "      <td>4.15</td>\n",
       "      <td>14600.0</td>\n",
       "      <td>0.913</td>\n",
       "      <td>4.13</td>\n",
       "      <td>251.342790</td>\n",
       "      <td>0.00913</td>\n",
       "    </tr>\n",
       "    <tr>\n",
       "      <th>842</th>\n",
       "      <td>4.16</td>\n",
       "      <td>14600.0</td>\n",
       "      <td>0.913</td>\n",
       "      <td>4.14</td>\n",
       "      <td>251.342790</td>\n",
       "      <td>0.00913</td>\n",
       "    </tr>\n",
       "    <tr>\n",
       "      <th>843</th>\n",
       "      <td>4.16</td>\n",
       "      <td>14600.0</td>\n",
       "      <td>0.913</td>\n",
       "      <td>4.14</td>\n",
       "      <td>251.342790</td>\n",
       "      <td>0.00913</td>\n",
       "    </tr>\n",
       "    <tr>\n",
       "      <th>844</th>\n",
       "      <td>4.17</td>\n",
       "      <td>14600.0</td>\n",
       "      <td>0.913</td>\n",
       "      <td>4.15</td>\n",
       "      <td>251.342790</td>\n",
       "      <td>0.00913</td>\n",
       "    </tr>\n",
       "    <tr>\n",
       "      <th>845</th>\n",
       "      <td>4.17</td>\n",
       "      <td>14600.0</td>\n",
       "      <td>0.913</td>\n",
       "      <td>4.15</td>\n",
       "      <td>251.342790</td>\n",
       "      <td>0.00913</td>\n",
       "    </tr>\n",
       "    <tr>\n",
       "      <th>846</th>\n",
       "      <td>4.18</td>\n",
       "      <td>14600.0</td>\n",
       "      <td>0.913</td>\n",
       "      <td>4.16</td>\n",
       "      <td>251.342790</td>\n",
       "      <td>0.00913</td>\n",
       "    </tr>\n",
       "    <tr>\n",
       "      <th>847</th>\n",
       "      <td>4.18</td>\n",
       "      <td>14600.0</td>\n",
       "      <td>0.913</td>\n",
       "      <td>4.16</td>\n",
       "      <td>251.342790</td>\n",
       "      <td>0.00913</td>\n",
       "    </tr>\n",
       "    <tr>\n",
       "      <th>848</th>\n",
       "      <td>4.19</td>\n",
       "      <td>14600.0</td>\n",
       "      <td>0.913</td>\n",
       "      <td>4.17</td>\n",
       "      <td>251.342790</td>\n",
       "      <td>0.00913</td>\n",
       "    </tr>\n",
       "    <tr>\n",
       "      <th>849</th>\n",
       "      <td>4.19</td>\n",
       "      <td>14600.0</td>\n",
       "      <td>0.913</td>\n",
       "      <td>4.17</td>\n",
       "      <td>251.342790</td>\n",
       "      <td>0.00913</td>\n",
       "    </tr>\n",
       "    <tr>\n",
       "      <th>850</th>\n",
       "      <td>4.20</td>\n",
       "      <td>14700.0</td>\n",
       "      <td>0.913</td>\n",
       "      <td>4.18</td>\n",
       "      <td>253.064316</td>\n",
       "      <td>0.00913</td>\n",
       "    </tr>\n",
       "    <tr>\n",
       "      <th>851</th>\n",
       "      <td>4.20</td>\n",
       "      <td>14700.0</td>\n",
       "      <td>0.913</td>\n",
       "      <td>4.18</td>\n",
       "      <td>253.064316</td>\n",
       "      <td>0.00913</td>\n",
       "    </tr>\n",
       "    <tr>\n",
       "      <th>852</th>\n",
       "      <td>4.21</td>\n",
       "      <td>14700.0</td>\n",
       "      <td>0.913</td>\n",
       "      <td>4.19</td>\n",
       "      <td>253.064316</td>\n",
       "      <td>0.00913</td>\n",
       "    </tr>\n",
       "    <tr>\n",
       "      <th>853</th>\n",
       "      <td>4.21</td>\n",
       "      <td>14700.0</td>\n",
       "      <td>0.913</td>\n",
       "      <td>4.19</td>\n",
       "      <td>253.064316</td>\n",
       "      <td>0.00913</td>\n",
       "    </tr>\n",
       "  </tbody>\n",
       "</table>\n",
       "</div>"
      ],
      "text/plain": [
       "     Position (mm)  Force (N)  Strain (%)  Time (min)      Tensão  Abs Strain\n",
       "838           4.14    14600.0       0.913        4.12  251.342790     0.00913\n",
       "839           4.14    14600.0       0.913        4.12  251.342790     0.00913\n",
       "840           4.15    14600.0       0.913        4.13  251.342790     0.00913\n",
       "841           4.15    14600.0       0.913        4.13  251.342790     0.00913\n",
       "842           4.16    14600.0       0.913        4.14  251.342790     0.00913\n",
       "843           4.16    14600.0       0.913        4.14  251.342790     0.00913\n",
       "844           4.17    14600.0       0.913        4.15  251.342790     0.00913\n",
       "845           4.17    14600.0       0.913        4.15  251.342790     0.00913\n",
       "846           4.18    14600.0       0.913        4.16  251.342790     0.00913\n",
       "847           4.18    14600.0       0.913        4.16  251.342790     0.00913\n",
       "848           4.19    14600.0       0.913        4.17  251.342790     0.00913\n",
       "849           4.19    14600.0       0.913        4.17  251.342790     0.00913\n",
       "850           4.20    14700.0       0.913        4.18  253.064316     0.00913\n",
       "851           4.20    14700.0       0.913        4.18  253.064316     0.00913\n",
       "852           4.21    14700.0       0.913        4.19  253.064316     0.00913\n",
       "853           4.21    14700.0       0.913        4.19  253.064316     0.00913"
      ]
     },
     "execution_count": 14,
     "metadata": {},
     "output_type": "execute_result"
    }
   ],
   "source": [
    "ensaio2[838:854]"
   ]
  },
  {
   "cell_type": "markdown",
   "metadata": {},
   "source": [
    "## Resultados"
   ]
  },
  {
   "cell_type": "markdown",
   "metadata": {},
   "source": [
    "Como é possível obvervar pelos gráficos, a intersecção da reta paralela com a curva está entre as deformações de 0.006 e 0.007, as quais,\n",
    "consultando no dataframe, mostram que o limite de escoamento é igual a 315.039 MPa para ambos os ensaios."
   ]
  },
  {
   "cell_type": "markdown",
   "metadata": {},
   "source": [
    "Já o cálculo da inclinação resultou no módulo de elasticidade, ou módulo de Young, o qual resultou em 72,4 GPa para o\n",
    "primeiro ensaio e em 69,74 GPa para o segundo ensaio."
   ]
  }
 ],
 "metadata": {
  "kernelspec": {
   "display_name": "Python 3",
   "language": "python",
   "name": "python3"
  },
  "language_info": {
   "codemirror_mode": {
    "name": "ipython",
    "version": 3
   },
   "file_extension": ".py",
   "mimetype": "text/x-python",
   "name": "python",
   "nbconvert_exporter": "python",
   "pygments_lexer": "ipython3",
   "version": "3.5.1"
  }
 },
 "nbformat": 4,
 "nbformat_minor": 0
}
