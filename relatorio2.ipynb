{
 "cells": [
  {
   "cell_type": "markdown",
   "metadata": {},
   "source": [
    "## Laboratórios 5 a 7\n",
    "## Determinação do metal contido em uma amostra - Ensaio de Tração"
   ]
  },
  {
   "cell_type": "markdown",
   "metadata": {},
   "source": [
    "### ASTM Standard E8/E8M"
   ]
  },
  {
   "cell_type": "code",
   "execution_count": 21,
   "metadata": {
    "collapsed": true
   },
   "outputs": [],
   "source": [
    "import pandas as pd\n",
    "%matplotlib inline\n",
    "import matplotlib.pyplot as plt\n",
    "import matplotlib\n",
    "import numpy as np"
   ]
  },
  {
   "cell_type": "code",
   "execution_count": 22,
   "metadata": {
    "collapsed": false
   },
   "outputs": [],
   "source": [
    "ensaio1 = pd.read_csv('acoAF1.csv', encoding = \"ISO-8859-1\")\n",
    "ensaio2 = pd.read_csv('acoAF2.csv', encoding = \"ISO-8859-1\")"
   ]
  },
  {
   "cell_type": "markdown",
   "metadata": {},
   "source": [
    "## Área da seção transversal dos corpos de prova (mm^2):"
   ]
  },
  {
   "cell_type": "code",
   "execution_count": 23,
   "metadata": {
    "collapsed": true
   },
   "outputs": [],
   "source": [
    "area = 58.088"
   ]
  },
  {
   "cell_type": "code",
   "execution_count": 24,
   "metadata": {
    "collapsed": false
   },
   "outputs": [
    {
     "data": {
      "text/html": [
       "<div>\n",
       "<table border=\"1\" class=\"dataframe\">\n",
       "  <thead>\n",
       "    <tr style=\"text-align: right;\">\n",
       "      <th></th>\n",
       "      <th>Position (mm)</th>\n",
       "      <th>Force (N)</th>\n",
       "      <th>Strain (%)</th>\n",
       "      <th>Time (min)</th>\n",
       "    </tr>\n",
       "  </thead>\n",
       "  <tbody>\n",
       "    <tr>\n",
       "      <th>0</th>\n",
       "      <td>0.0000</td>\n",
       "      <td>3.33</td>\n",
       "      <td>-0.119</td>\n",
       "      <td>0.00274</td>\n",
       "    </tr>\n",
       "    <tr>\n",
       "      <th>1</th>\n",
       "      <td>0.0400</td>\n",
       "      <td>30.00</td>\n",
       "      <td>-0.114</td>\n",
       "      <td>0.00709</td>\n",
       "    </tr>\n",
       "    <tr>\n",
       "      <th>2</th>\n",
       "      <td>0.0520</td>\n",
       "      <td>30.00</td>\n",
       "      <td>-0.112</td>\n",
       "      <td>0.01140</td>\n",
       "    </tr>\n",
       "    <tr>\n",
       "      <th>3</th>\n",
       "      <td>0.0560</td>\n",
       "      <td>31.70</td>\n",
       "      <td>-0.111</td>\n",
       "      <td>0.01570</td>\n",
       "    </tr>\n",
       "    <tr>\n",
       "      <th>4</th>\n",
       "      <td>0.0608</td>\n",
       "      <td>31.70</td>\n",
       "      <td>-0.111</td>\n",
       "      <td>0.02000</td>\n",
       "    </tr>\n",
       "  </tbody>\n",
       "</table>\n",
       "</div>"
      ],
      "text/plain": [
       "   Position (mm)  Force (N)  Strain (%)  Time (min)\n",
       "0         0.0000       3.33      -0.119     0.00274\n",
       "1         0.0400      30.00      -0.114     0.00709\n",
       "2         0.0520      30.00      -0.112     0.01140\n",
       "3         0.0560      31.70      -0.111     0.01570\n",
       "4         0.0608      31.70      -0.111     0.02000"
      ]
     },
     "execution_count": 24,
     "metadata": {},
     "output_type": "execute_result"
    }
   ],
   "source": [
    "ensaio1.head()"
   ]
  },
  {
   "cell_type": "code",
   "execution_count": 25,
   "metadata": {
    "collapsed": false
   },
   "outputs": [
    {
     "data": {
      "text/plain": [
       "-0.11900000000000001"
      ]
     },
     "execution_count": 25,
     "metadata": {},
     "output_type": "execute_result"
    }
   ],
   "source": [
    "ensaio1['Strain (%)'][0]"
   ]
  },
  {
   "cell_type": "markdown",
   "metadata": {},
   "source": [
    "## Inserção da coluna com o valor da tensão (MPa):"
   ]
  },
  {
   "cell_type": "code",
   "execution_count": 26,
   "metadata": {
    "collapsed": false
   },
   "outputs": [],
   "source": [
    "ensaio1.insert(4,'Tensão',ensaio1[\"Force (N)\"]/area) \n",
    "ensaio1.insert(5, 'strain(%)', ensaio1['Strain (%)'] - ensaio1['Strain (%)'][0])\n",
    "ensaio2.insert(4,'Tensão',ensaio2[\"Force (N)\"]/area)"
   ]
  },
  {
   "cell_type": "markdown",
   "metadata": {
    "collapsed": false
   },
   "source": [
    "## Inserção da coluna com o valor da deformação absoluta"
   ]
  },
  {
   "cell_type": "code",
   "execution_count": 27,
   "metadata": {
    "collapsed": false
   },
   "outputs": [],
   "source": [
    "ensaio1.insert(5, 'Abs Strain', ensaio1['strain(%)']/100)\n",
    "ensaio2.insert(5, 'Abs Strain', ensaio2['Strain (%)']/100)"
   ]
  },
  {
   "cell_type": "code",
   "execution_count": 28,
   "metadata": {
    "collapsed": false
   },
   "outputs": [
    {
     "data": {
      "text/html": [
       "<div>\n",
       "<table border=\"1\" class=\"dataframe\">\n",
       "  <thead>\n",
       "    <tr style=\"text-align: right;\">\n",
       "      <th></th>\n",
       "      <th>Position (mm)</th>\n",
       "      <th>Force (N)</th>\n",
       "      <th>Strain (%)</th>\n",
       "      <th>Time (min)</th>\n",
       "      <th>Tensão</th>\n",
       "      <th>Abs Strain</th>\n",
       "      <th>strain(%)</th>\n",
       "    </tr>\n",
       "  </thead>\n",
       "  <tbody>\n",
       "    <tr>\n",
       "      <th>0</th>\n",
       "      <td>0.0000</td>\n",
       "      <td>3.33</td>\n",
       "      <td>-0.119</td>\n",
       "      <td>0.00274</td>\n",
       "      <td>0.057327</td>\n",
       "      <td>0.00000</td>\n",
       "      <td>0.000</td>\n",
       "    </tr>\n",
       "    <tr>\n",
       "      <th>1</th>\n",
       "      <td>0.0400</td>\n",
       "      <td>30.00</td>\n",
       "      <td>-0.114</td>\n",
       "      <td>0.00709</td>\n",
       "      <td>0.516458</td>\n",
       "      <td>0.00005</td>\n",
       "      <td>0.005</td>\n",
       "    </tr>\n",
       "    <tr>\n",
       "      <th>2</th>\n",
       "      <td>0.0520</td>\n",
       "      <td>30.00</td>\n",
       "      <td>-0.112</td>\n",
       "      <td>0.01140</td>\n",
       "      <td>0.516458</td>\n",
       "      <td>0.00007</td>\n",
       "      <td>0.007</td>\n",
       "    </tr>\n",
       "    <tr>\n",
       "      <th>3</th>\n",
       "      <td>0.0560</td>\n",
       "      <td>31.70</td>\n",
       "      <td>-0.111</td>\n",
       "      <td>0.01570</td>\n",
       "      <td>0.545724</td>\n",
       "      <td>0.00008</td>\n",
       "      <td>0.008</td>\n",
       "    </tr>\n",
       "    <tr>\n",
       "      <th>4</th>\n",
       "      <td>0.0608</td>\n",
       "      <td>31.70</td>\n",
       "      <td>-0.111</td>\n",
       "      <td>0.02000</td>\n",
       "      <td>0.545724</td>\n",
       "      <td>0.00008</td>\n",
       "      <td>0.008</td>\n",
       "    </tr>\n",
       "  </tbody>\n",
       "</table>\n",
       "</div>"
      ],
      "text/plain": [
       "   Position (mm)  Force (N)  Strain (%)  Time (min)    Tensão  Abs Strain  \\\n",
       "0         0.0000       3.33      -0.119     0.00274  0.057327     0.00000   \n",
       "1         0.0400      30.00      -0.114     0.00709  0.516458     0.00005   \n",
       "2         0.0520      30.00      -0.112     0.01140  0.516458     0.00007   \n",
       "3         0.0560      31.70      -0.111     0.01570  0.545724     0.00008   \n",
       "4         0.0608      31.70      -0.111     0.02000  0.545724     0.00008   \n",
       "\n",
       "   strain(%)  \n",
       "0      0.000  \n",
       "1      0.005  \n",
       "2      0.007  \n",
       "3      0.008  \n",
       "4      0.008  "
      ]
     },
     "execution_count": 28,
     "metadata": {},
     "output_type": "execute_result"
    }
   ],
   "source": [
    "ensaio1.head()"
   ]
  },
  {
   "cell_type": "code",
   "execution_count": 29,
   "metadata": {
    "collapsed": false
   },
   "outputs": [
    {
     "name": "stdout",
     "output_type": "stream",
     "text": [
      "Primeiro ensaio: 216638.292152\n",
      "Segundo ensaio: 223748.806636\n"
     ]
    }
   ],
   "source": [
    "regiao_linear_y1 = [ensaio1['Tensão'][i] for i in range(100,500)]\n",
    "regiao_linear_x1 = [ensaio1['Abs Strain'][i] for i in range(100,500)]\n",
    "\n",
    "slope1, intercept = np.polyfit(regiao_linear_x1, regiao_linear_y1, 1)\n",
    "print('Primeiro ensaio:', slope1)\n",
    "\n",
    "regiao_linear_y2 = [ensaio2['Tensão'][i] for i in range(100,500)]\n",
    "regiao_linear_x2 = [ensaio2['Abs Strain'][i] for i in range(100,500)]\n",
    "\n",
    "slope2, intercept = np.polyfit(regiao_linear_x2, regiao_linear_y2, 1)\n",
    "print('Segundo ensaio:', slope2)"
   ]
  },
  {
   "cell_type": "code",
   "execution_count": 30,
   "metadata": {
    "collapsed": false
   },
   "outputs": [
    {
     "data": {
      "text/plain": [
       "[595]"
      ]
     },
     "execution_count": 30,
     "metadata": {},
     "output_type": "execute_result"
    }
   ],
   "source": [
    "ensaio1[ensaio1['Abs Strain'] == 0.002].index.tolist()\n",
    "#encontrando em que linha está o valor de deformação de 0,2%"
   ]
  },
  {
   "cell_type": "code",
   "execution_count": 31,
   "metadata": {
    "collapsed": false
   },
   "outputs": [
    {
     "data": {
      "text/html": [
       "<div>\n",
       "<table border=\"1\" class=\"dataframe\">\n",
       "  <thead>\n",
       "    <tr style=\"text-align: right;\">\n",
       "      <th></th>\n",
       "      <th>Position (mm)</th>\n",
       "      <th>Force (N)</th>\n",
       "      <th>Strain (%)</th>\n",
       "      <th>Time (min)</th>\n",
       "      <th>Tensão</th>\n",
       "      <th>Abs Strain</th>\n",
       "      <th>strain(%)</th>\n",
       "    </tr>\n",
       "  </thead>\n",
       "  <tbody>\n",
       "    <tr>\n",
       "      <th>595</th>\n",
       "      <td>2.6</td>\n",
       "      <td>15300.0</td>\n",
       "      <td>0.081</td>\n",
       "      <td>2.56</td>\n",
       "      <td>263.393472</td>\n",
       "      <td>0.002</td>\n",
       "      <td>0.2</td>\n",
       "    </tr>\n",
       "  </tbody>\n",
       "</table>\n",
       "</div>"
      ],
      "text/plain": [
       "     Position (mm)  Force (N)  Strain (%)  Time (min)      Tensão  Abs Strain  \\\n",
       "595            2.6    15300.0       0.081        2.56  263.393472       0.002   \n",
       "\n",
       "     strain(%)  \n",
       "595        0.2  "
      ]
     },
     "execution_count": 31,
     "metadata": {},
     "output_type": "execute_result"
    }
   ],
   "source": [
    "ensaio1[595:596]"
   ]
  },
  {
   "cell_type": "markdown",
   "metadata": {},
   "source": [
    "### Módulo de Young: inclinação da região linear (regime elástico)"
   ]
  },
  {
   "cell_type": "code",
   "execution_count": 32,
   "metadata": {
    "collapsed": false
   },
   "outputs": [
    {
     "name": "stdout",
     "output_type": "stream",
     "text": [
      "216638.292152\n",
      "223748.806636\n"
     ]
    },
    {
     "data": {
      "image/png": "[encoded data removed]",
      "text/plain": [
       "<matplotlib.figure.Figure at 0x2b4c061e8d0>"
      ]
     },
     "metadata": {},
     "output_type": "display_data"
    }
   ],
   "source": [
    "ensaio1.plot(kind='scatter', x='Abs Strain', y='Tensão', figsize=(10,10))\n",
    "plt.axis([0,0.0110,0,320])\n",
    "plt.title('Tensão vs. Deformação Percentual - Primeiro Ensaio')\n",
    "plt.xticks(np.arange(0, 0.0110, 0.001))\n",
    "plt.yticks(np.arange(0, 320, 10))\n",
    "plt.grid()\n",
    "\n",
    "x_min1, x_max1 = 0.002,0.008\n",
    "y_min1, y_max1 = 0, slope1*(x_max1-x_min1)\n",
    "plt.plot([x_min1, x_max1], [y_min1, y_max1])\n",
    "\n",
    "regiao_linear_y1 = [ensaio1['Tensão'][i] for i in range(100,500)]\n",
    "regiao_linear_x1 = [ensaio1['Abs Strain'][i] for i in range(100,500)]\n",
    "\n",
    "slope1, intercept = np.polyfit(regiao_linear_x1, regiao_linear_y1, 1)\n",
    "print(slope1)\n",
    "\n",
    "regiao_linear_y2 = [ensaio2['Tensão'][i] for i in range(100,500)]\n",
    "regiao_linear_x2 = [ensaio2['Abs Strain'][i] for i in range(100,500)]\n",
    "\n",
    "slope2, intercept = np.polyfit(regiao_linear_x2, regiao_linear_y2, 1)\n",
    "print(slope2)"
   ]
  },
  {
   "cell_type": "code",
   "execution_count": 33,
   "metadata": {
    "collapsed": false
   },
   "outputs": [
    {
     "data": {
      "text/plain": [
       "[<matplotlib.lines.Line2D at 0x2b4c0ad7be0>]"
      ]
     },
     "execution_count": 33,
     "metadata": {},
     "output_type": "execute_result"
    },
    {
     "data": {
      "image/png": "[encoded data removed]",
      "text/plain": [
       "<matplotlib.figure.Figure at 0x2b4c05d64a8>"
      ]
     },
     "metadata": {},
     "output_type": "display_data"
    }
   ],
   "source": [
    "ensaio2.plot(kind='scatter', x='Abs Strain', y='Tensão', figsize=(10,10))\n",
    "plt.axis([0,0.0110,0,320])\n",
    "plt.title('Tensão vs. Deformação Percentual - Segundo Ensaio')\n",
    "plt.yticks(np.arange(0, 320, 10))\n",
    "plt.xticks(np.arange(0, 0.0110, 0.001))\n",
    "plt.grid()\n",
    "\n",
    "x_min2, x_max2 = 0.002,0.008\n",
    "y_min2, y_max2 = 0, slope2*(x_max2-x_min2)\n",
    "plt.plot([x_min2, x_max2], [y_min2, y_max2])"
   ]
  },
  {
   "cell_type": "markdown",
   "metadata": {},
   "source": [
    "Os módulos de Young são de 216,64 GPa para o primeiro ensaio e de 223,75 GPa para o segundo ensaio."
   ]
  },
  {
   "cell_type": "markdown",
   "metadata": {},
   "source": [
    "## Determinação do limite de escoamento"
   ]
  },
  {
   "cell_type": "markdown",
   "metadata": {},
   "source": [
    "Observamos, pelo gráfico, que o limite de escoamento pelo padrão ASTM Standard E8/E8M se encontra entre as deformações absolutas de 0.003 e 0.004.\n",
    "Sendo assim, basta verificar no dataframe os valores da tensão para estes valores de deformação absoluta."
   ]
  },
  {
   "cell_type": "code",
   "execution_count": 61,
   "metadata": {
    "collapsed": false
   },
   "outputs": [
    {
     "data": {
      "text/html": [
       "<div>\n",
       "<table border=\"1\" class=\"dataframe\">\n",
       "  <thead>\n",
       "    <tr style=\"text-align: right;\">\n",
       "      <th></th>\n",
       "      <th>Position (mm)</th>\n",
       "      <th>Force (N)</th>\n",
       "      <th>Strain (%)</th>\n",
       "      <th>Time (min)</th>\n",
       "      <th>Tensão</th>\n",
       "      <th>Abs Strain</th>\n",
       "      <th>strain(%)</th>\n",
       "    </tr>\n",
       "  </thead>\n",
       "  <tbody>\n",
       "    <tr>\n",
       "      <th>606</th>\n",
       "      <td>2.65</td>\n",
       "      <td>14500.0</td>\n",
       "      <td>0.187</td>\n",
       "      <td>2.61</td>\n",
       "      <td>249.621264</td>\n",
       "      <td>0.00306</td>\n",
       "      <td>0.306</td>\n",
       "    </tr>\n",
       "    <tr>\n",
       "      <th>607</th>\n",
       "      <td>2.66</td>\n",
       "      <td>14500.0</td>\n",
       "      <td>0.194</td>\n",
       "      <td>2.62</td>\n",
       "      <td>249.621264</td>\n",
       "      <td>0.00313</td>\n",
       "      <td>0.313</td>\n",
       "    </tr>\n",
       "    <tr>\n",
       "      <th>608</th>\n",
       "      <td>2.66</td>\n",
       "      <td>14500.0</td>\n",
       "      <td>0.201</td>\n",
       "      <td>2.62</td>\n",
       "      <td>249.621264</td>\n",
       "      <td>0.00320</td>\n",
       "      <td>0.320</td>\n",
       "    </tr>\n",
       "    <tr>\n",
       "      <th>609</th>\n",
       "      <td>2.66</td>\n",
       "      <td>14500.0</td>\n",
       "      <td>0.208</td>\n",
       "      <td>2.62</td>\n",
       "      <td>249.621264</td>\n",
       "      <td>0.00327</td>\n",
       "      <td>0.327</td>\n",
       "    </tr>\n",
       "    <tr>\n",
       "      <th>610</th>\n",
       "      <td>2.67</td>\n",
       "      <td>14500.0</td>\n",
       "      <td>0.214</td>\n",
       "      <td>2.63</td>\n",
       "      <td>249.621264</td>\n",
       "      <td>0.00333</td>\n",
       "      <td>0.333</td>\n",
       "    </tr>\n",
       "    <tr>\n",
       "      <th>611</th>\n",
       "      <td>2.67</td>\n",
       "      <td>14500.0</td>\n",
       "      <td>0.221</td>\n",
       "      <td>2.63</td>\n",
       "      <td>249.621264</td>\n",
       "      <td>0.00340</td>\n",
       "      <td>0.340</td>\n",
       "    </tr>\n",
       "    <tr>\n",
       "      <th>612</th>\n",
       "      <td>2.68</td>\n",
       "      <td>14500.0</td>\n",
       "      <td>0.229</td>\n",
       "      <td>2.64</td>\n",
       "      <td>249.621264</td>\n",
       "      <td>0.00348</td>\n",
       "      <td>0.348</td>\n",
       "    </tr>\n",
       "    <tr>\n",
       "      <th>613</th>\n",
       "      <td>2.68</td>\n",
       "      <td>14500.0</td>\n",
       "      <td>0.237</td>\n",
       "      <td>2.64</td>\n",
       "      <td>249.621264</td>\n",
       "      <td>0.00356</td>\n",
       "      <td>0.356</td>\n",
       "    </tr>\n",
       "    <tr>\n",
       "      <th>614</th>\n",
       "      <td>2.69</td>\n",
       "      <td>14500.0</td>\n",
       "      <td>0.244</td>\n",
       "      <td>2.65</td>\n",
       "      <td>249.621264</td>\n",
       "      <td>0.00363</td>\n",
       "      <td>0.363</td>\n",
       "    </tr>\n",
       "    <tr>\n",
       "      <th>615</th>\n",
       "      <td>2.69</td>\n",
       "      <td>14600.0</td>\n",
       "      <td>0.251</td>\n",
       "      <td>2.65</td>\n",
       "      <td>251.342790</td>\n",
       "      <td>0.00370</td>\n",
       "      <td>0.370</td>\n",
       "    </tr>\n",
       "    <tr>\n",
       "      <th>616</th>\n",
       "      <td>2.69</td>\n",
       "      <td>14600.0</td>\n",
       "      <td>0.257</td>\n",
       "      <td>2.65</td>\n",
       "      <td>251.342790</td>\n",
       "      <td>0.00376</td>\n",
       "      <td>0.376</td>\n",
       "    </tr>\n",
       "    <tr>\n",
       "      <th>617</th>\n",
       "      <td>2.70</td>\n",
       "      <td>14600.0</td>\n",
       "      <td>0.263</td>\n",
       "      <td>2.66</td>\n",
       "      <td>251.342790</td>\n",
       "      <td>0.00382</td>\n",
       "      <td>0.382</td>\n",
       "    </tr>\n",
       "    <tr>\n",
       "      <th>618</th>\n",
       "      <td>2.70</td>\n",
       "      <td>14600.0</td>\n",
       "      <td>0.269</td>\n",
       "      <td>2.66</td>\n",
       "      <td>251.342790</td>\n",
       "      <td>0.00388</td>\n",
       "      <td>0.388</td>\n",
       "    </tr>\n",
       "    <tr>\n",
       "      <th>619</th>\n",
       "      <td>2.71</td>\n",
       "      <td>14700.0</td>\n",
       "      <td>0.275</td>\n",
       "      <td>2.67</td>\n",
       "      <td>253.064316</td>\n",
       "      <td>0.00394</td>\n",
       "      <td>0.394</td>\n",
       "    </tr>\n",
       "    <tr>\n",
       "      <th>620</th>\n",
       "      <td>2.71</td>\n",
       "      <td>14700.0</td>\n",
       "      <td>0.281</td>\n",
       "      <td>2.67</td>\n",
       "      <td>253.064316</td>\n",
       "      <td>0.00400</td>\n",
       "      <td>0.400</td>\n",
       "    </tr>\n",
       "    <tr>\n",
       "      <th>621</th>\n",
       "      <td>2.72</td>\n",
       "      <td>14700.0</td>\n",
       "      <td>0.288</td>\n",
       "      <td>2.68</td>\n",
       "      <td>253.064316</td>\n",
       "      <td>0.00407</td>\n",
       "      <td>0.407</td>\n",
       "    </tr>\n",
       "    <tr>\n",
       "      <th>622</th>\n",
       "      <td>2.72</td>\n",
       "      <td>14700.0</td>\n",
       "      <td>0.296</td>\n",
       "      <td>2.68</td>\n",
       "      <td>253.064316</td>\n",
       "      <td>0.00415</td>\n",
       "      <td>0.415</td>\n",
       "    </tr>\n",
       "    <tr>\n",
       "      <th>623</th>\n",
       "      <td>2.72</td>\n",
       "      <td>14700.0</td>\n",
       "      <td>0.305</td>\n",
       "      <td>2.68</td>\n",
       "      <td>253.064316</td>\n",
       "      <td>0.00424</td>\n",
       "      <td>0.424</td>\n",
       "    </tr>\n",
       "    <tr>\n",
       "      <th>624</th>\n",
       "      <td>2.73</td>\n",
       "      <td>14700.0</td>\n",
       "      <td>0.314</td>\n",
       "      <td>2.69</td>\n",
       "      <td>253.064316</td>\n",
       "      <td>0.00433</td>\n",
       "      <td>0.433</td>\n",
       "    </tr>\n",
       "  </tbody>\n",
       "</table>\n",
       "</div>"
      ],
      "text/plain": [
       "     Position (mm)  Force (N)  Strain (%)  Time (min)      Tensão  Abs Strain  \\\n",
       "606           2.65    14500.0       0.187        2.61  249.621264     0.00306   \n",
       "607           2.66    14500.0       0.194        2.62  249.621264     0.00313   \n",
       "608           2.66    14500.0       0.201        2.62  249.621264     0.00320   \n",
       "609           2.66    14500.0       0.208        2.62  249.621264     0.00327   \n",
       "610           2.67    14500.0       0.214        2.63  249.621264     0.00333   \n",
       "611           2.67    14500.0       0.221        2.63  249.621264     0.00340   \n",
       "612           2.68    14500.0       0.229        2.64  249.621264     0.00348   \n",
       "613           2.68    14500.0       0.237        2.64  249.621264     0.00356   \n",
       "614           2.69    14500.0       0.244        2.65  249.621264     0.00363   \n",
       "615           2.69    14600.0       0.251        2.65  251.342790     0.00370   \n",
       "616           2.69    14600.0       0.257        2.65  251.342790     0.00376   \n",
       "617           2.70    14600.0       0.263        2.66  251.342790     0.00382   \n",
       "618           2.70    14600.0       0.269        2.66  251.342790     0.00388   \n",
       "619           2.71    14700.0       0.275        2.67  253.064316     0.00394   \n",
       "620           2.71    14700.0       0.281        2.67  253.064316     0.00400   \n",
       "621           2.72    14700.0       0.288        2.68  253.064316     0.00407   \n",
       "622           2.72    14700.0       0.296        2.68  253.064316     0.00415   \n",
       "623           2.72    14700.0       0.305        2.68  253.064316     0.00424   \n",
       "624           2.73    14700.0       0.314        2.69  253.064316     0.00433   \n",
       "\n",
       "     strain(%)  \n",
       "606      0.306  \n",
       "607      0.313  \n",
       "608      0.320  \n",
       "609      0.327  \n",
       "610      0.333  \n",
       "611      0.340  \n",
       "612      0.348  \n",
       "613      0.356  \n",
       "614      0.363  \n",
       "615      0.370  \n",
       "616      0.376  \n",
       "617      0.382  \n",
       "618      0.388  \n",
       "619      0.394  \n",
       "620      0.400  \n",
       "621      0.407  \n",
       "622      0.415  \n",
       "623      0.424  \n",
       "624      0.433  "
      ]
     },
     "execution_count": 61,
     "metadata": {},
     "output_type": "execute_result"
    }
   ],
   "source": [
    "ensaio1[606:625]"
   ]
  },
  {
   "cell_type": "code",
   "execution_count": 69,
   "metadata": {
    "collapsed": false
   },
   "outputs": [
    {
     "data": {
      "text/html": [
       "<div>\n",
       "<table border=\"1\" class=\"dataframe\">\n",
       "  <thead>\n",
       "    <tr style=\"text-align: right;\">\n",
       "      <th></th>\n",
       "      <th>Position (mm)</th>\n",
       "      <th>Force (N)</th>\n",
       "      <th>Strain (%)</th>\n",
       "      <th>Time (min)</th>\n",
       "      <th>Tensão</th>\n",
       "      <th>Abs Strain</th>\n",
       "    </tr>\n",
       "  </thead>\n",
       "  <tbody>\n",
       "    <tr>\n",
       "      <th>686</th>\n",
       "      <td>3.39</td>\n",
       "      <td>15000.0</td>\n",
       "      <td>0.301</td>\n",
       "      <td>3.37</td>\n",
       "      <td>258.228894</td>\n",
       "      <td>0.00301</td>\n",
       "    </tr>\n",
       "    <tr>\n",
       "      <th>687</th>\n",
       "      <td>3.40</td>\n",
       "      <td>15000.0</td>\n",
       "      <td>0.308</td>\n",
       "      <td>3.38</td>\n",
       "      <td>258.228894</td>\n",
       "      <td>0.00308</td>\n",
       "    </tr>\n",
       "    <tr>\n",
       "      <th>688</th>\n",
       "      <td>3.40</td>\n",
       "      <td>15000.0</td>\n",
       "      <td>0.317</td>\n",
       "      <td>3.38</td>\n",
       "      <td>258.228894</td>\n",
       "      <td>0.00317</td>\n",
       "    </tr>\n",
       "    <tr>\n",
       "      <th>689</th>\n",
       "      <td>3.41</td>\n",
       "      <td>14900.0</td>\n",
       "      <td>0.327</td>\n",
       "      <td>3.39</td>\n",
       "      <td>256.507368</td>\n",
       "      <td>0.00327</td>\n",
       "    </tr>\n",
       "    <tr>\n",
       "      <th>690</th>\n",
       "      <td>3.41</td>\n",
       "      <td>14900.0</td>\n",
       "      <td>0.336</td>\n",
       "      <td>3.39</td>\n",
       "      <td>256.507368</td>\n",
       "      <td>0.00336</td>\n",
       "    </tr>\n",
       "    <tr>\n",
       "      <th>691</th>\n",
       "      <td>3.42</td>\n",
       "      <td>14900.0</td>\n",
       "      <td>0.345</td>\n",
       "      <td>3.40</td>\n",
       "      <td>256.507368</td>\n",
       "      <td>0.00345</td>\n",
       "    </tr>\n",
       "    <tr>\n",
       "      <th>692</th>\n",
       "      <td>3.42</td>\n",
       "      <td>14900.0</td>\n",
       "      <td>0.354</td>\n",
       "      <td>3.40</td>\n",
       "      <td>256.507368</td>\n",
       "      <td>0.00354</td>\n",
       "    </tr>\n",
       "    <tr>\n",
       "      <th>693</th>\n",
       "      <td>3.43</td>\n",
       "      <td>14900.0</td>\n",
       "      <td>0.363</td>\n",
       "      <td>3.41</td>\n",
       "      <td>256.507368</td>\n",
       "      <td>0.00363</td>\n",
       "    </tr>\n",
       "    <tr>\n",
       "      <th>694</th>\n",
       "      <td>3.43</td>\n",
       "      <td>14900.0</td>\n",
       "      <td>0.371</td>\n",
       "      <td>3.41</td>\n",
       "      <td>256.507368</td>\n",
       "      <td>0.00371</td>\n",
       "    </tr>\n",
       "    <tr>\n",
       "      <th>695</th>\n",
       "      <td>3.44</td>\n",
       "      <td>14900.0</td>\n",
       "      <td>0.381</td>\n",
       "      <td>3.42</td>\n",
       "      <td>256.507368</td>\n",
       "      <td>0.00381</td>\n",
       "    </tr>\n",
       "    <tr>\n",
       "      <th>696</th>\n",
       "      <td>3.44</td>\n",
       "      <td>14900.0</td>\n",
       "      <td>0.390</td>\n",
       "      <td>3.42</td>\n",
       "      <td>256.507368</td>\n",
       "      <td>0.00390</td>\n",
       "    </tr>\n",
       "    <tr>\n",
       "      <th>697</th>\n",
       "      <td>3.45</td>\n",
       "      <td>14900.0</td>\n",
       "      <td>0.400</td>\n",
       "      <td>3.43</td>\n",
       "      <td>256.507368</td>\n",
       "      <td>0.00400</td>\n",
       "    </tr>\n",
       "  </tbody>\n",
       "</table>\n",
       "</div>"
      ],
      "text/plain": [
       "     Position (mm)  Force (N)  Strain (%)  Time (min)      Tensão  Abs Strain\n",
       "686           3.39    15000.0       0.301        3.37  258.228894     0.00301\n",
       "687           3.40    15000.0       0.308        3.38  258.228894     0.00308\n",
       "688           3.40    15000.0       0.317        3.38  258.228894     0.00317\n",
       "689           3.41    14900.0       0.327        3.39  256.507368     0.00327\n",
       "690           3.41    14900.0       0.336        3.39  256.507368     0.00336\n",
       "691           3.42    14900.0       0.345        3.40  256.507368     0.00345\n",
       "692           3.42    14900.0       0.354        3.40  256.507368     0.00354\n",
       "693           3.43    14900.0       0.363        3.41  256.507368     0.00363\n",
       "694           3.43    14900.0       0.371        3.41  256.507368     0.00371\n",
       "695           3.44    14900.0       0.381        3.42  256.507368     0.00381\n",
       "696           3.44    14900.0       0.390        3.42  256.507368     0.00390\n",
       "697           3.45    14900.0       0.400        3.43  256.507368     0.00400"
      ]
     },
     "execution_count": 69,
     "metadata": {},
     "output_type": "execute_result"
    }
   ],
   "source": [
    "ensaio2[686:698]"
   ]
  },
  {
   "cell_type": "markdown",
   "metadata": {},
   "source": [
    "## Resultados"
   ]
  },
  {
   "cell_type": "markdown",
   "metadata": {},
   "source": [
    "Consultando ambos os dataframes e os gráficos, pode-se cocluir que o limite de escoamento é de 249.62 MPa para o primeiro ensaio e \n",
    "258.22 MPa para o segundo ensaio."
   ]
  }
 ],
 "metadata": {
  "kernelspec": {
   "display_name": "Python 3",
   "language": "python",
   "name": "python3"
  },
  "language_info": {
   "codemirror_mode": {
    "name": "ipython",
    "version": 3
   },
   "file_extension": ".py",
   "mimetype": "text/x-python",
   "name": "python",
   "nbconvert_exporter": "python",
   "pygments_lexer": "ipython3",
   "version": "3.5.1"
  }
 },
 "nbformat": 4,
 "nbformat_minor": 0
}
