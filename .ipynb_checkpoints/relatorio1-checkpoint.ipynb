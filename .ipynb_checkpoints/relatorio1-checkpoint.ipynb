{
 "cells": [
  {
   "cell_type": "code",
   "execution_count": 1,
   "metadata": {
    "collapsed": true
   },
   "outputs": [],
   "source": [
    "import pandas as pd\n",
    "%matplotlib inline\n",
    "import matplotlib.pyplot as plt\n",
    "import matplotlib"
   ]
  },
  {
   "cell_type": "code",
   "execution_count": 2,
   "metadata": {
    "collapsed": false
   },
   "outputs": [],
   "source": [
    "ensaio1 = pd.read_csv('AluminioAH1.csv', encoding = \"ISO-8859-1\")\n",
    "ensaio2 = pd.read_csv('AluminioAH2.csv', encoding = \"ISO-8859-1\")"
   ]
  },
  {
   "cell_type": "code",
   "execution_count": 3,
   "metadata": {
    "collapsed": false
   },
   "outputs": [],
   "source": [
    "#área da seção transversal dos corpos de prova de alumínio (em mm^2):\n",
    "area = 232.35219\n",
    "#inserindo a coluna com o valor da tensão em MPa (pois a área está em mm^2)\n",
    "ensaio1.insert(4,'Tensão',ensaio1[\"Force (N)\"]/area) #tensão em MPa\n",
    "#inserindo a coluna com o valor da deformação absoluta (sem ser percentual)\n",
    "ensaio1.insert(5, 'Deformação absoluta', ensaio1['Strain (%)']/100)"
   ]
  },
  {
   "cell_type": "code",
   "execution_count": 4,
   "metadata": {
    "collapsed": false
   },
   "outputs": [
    {
     "data": {
      "text/html": [
       "<div>\n",
       "<table border=\"1\" class=\"dataframe\">\n",
       "  <thead>\n",
       "    <tr style=\"text-align: right;\">\n",
       "      <th></th>\n",
       "      <th>Position (mm)</th>\n",
       "      <th>Force (N)</th>\n",
       "      <th>Strain (%)</th>\n",
       "      <th>Time (min)</th>\n",
       "      <th>Tensão</th>\n",
       "      <th>Deformação absoluta</th>\n",
       "    </tr>\n",
       "  </thead>\n",
       "  <tbody>\n",
       "    <tr>\n",
       "      <th>0</th>\n",
       "      <td>0.0000</td>\n",
       "      <td>0</td>\n",
       "      <td>0.00000</td>\n",
       "      <td>0.00272</td>\n",
       "      <td>0.000000</td>\n",
       "      <td>0.000000</td>\n",
       "    </tr>\n",
       "    <tr>\n",
       "      <th>1</th>\n",
       "      <td>0.0100</td>\n",
       "      <td>75</td>\n",
       "      <td>0.00167</td>\n",
       "      <td>0.00414</td>\n",
       "      <td>0.322786</td>\n",
       "      <td>0.000017</td>\n",
       "    </tr>\n",
       "    <tr>\n",
       "      <th>2</th>\n",
       "      <td>0.0210</td>\n",
       "      <td>278</td>\n",
       "      <td>0.00617</td>\n",
       "      <td>0.00866</td>\n",
       "      <td>1.196460</td>\n",
       "      <td>0.000062</td>\n",
       "    </tr>\n",
       "    <tr>\n",
       "      <th>3</th>\n",
       "      <td>0.0253</td>\n",
       "      <td>331</td>\n",
       "      <td>0.00733</td>\n",
       "      <td>0.01320</td>\n",
       "      <td>1.424562</td>\n",
       "      <td>0.000073</td>\n",
       "    </tr>\n",
       "    <tr>\n",
       "      <th>4</th>\n",
       "      <td>0.0300</td>\n",
       "      <td>370</td>\n",
       "      <td>0.00817</td>\n",
       "      <td>0.01770</td>\n",
       "      <td>1.592410</td>\n",
       "      <td>0.000082</td>\n",
       "    </tr>\n",
       "  </tbody>\n",
       "</table>\n",
       "</div>"
      ],
      "text/plain": [
       "   Position (mm)  Force (N)  Strain (%)  Time (min)    Tensão  \\\n",
       "0         0.0000          0     0.00000     0.00272  0.000000   \n",
       "1         0.0100         75     0.00167     0.00414  0.322786   \n",
       "2         0.0210        278     0.00617     0.00866  1.196460   \n",
       "3         0.0253        331     0.00733     0.01320  1.424562   \n",
       "4         0.0300        370     0.00817     0.01770  1.592410   \n",
       "\n",
       "   Deformação absoluta  \n",
       "0             0.000000  \n",
       "1             0.000017  \n",
       "2             0.000062  \n",
       "3             0.000073  \n",
       "4             0.000082  "
      ]
     },
     "execution_count": 4,
     "metadata": {},
     "output_type": "execute_result"
    }
   ],
   "source": [
    "ensaio1.head()"
   ]
  },
  {
   "cell_type": "code",
   "execution_count": null,
   "metadata": {
    "collapsed": false
   },
   "outputs": [],
   "source": [
    "ensaio1.tail()"
   ]
  },
  {
   "cell_type": "code",
   "execution_count": null,
   "metadata": {
    "collapsed": false
   },
   "outputs": [],
   "source": [
    "ensaio2.head()"
   ]
  },
  {
   "cell_type": "code",
   "execution_count": null,
   "metadata": {
    "collapsed": false
   },
   "outputs": [],
   "source": [
    "ensaio2.tail()"
   ]
  }
 ],
 "metadata": {
  "kernelspec": {
   "display_name": "Python 3",
   "language": "python",
   "name": "python3"
  },
  "language_info": {
   "codemirror_mode": {
    "name": "ipython",
    "version": 3
   },
   "file_extension": ".py",
   "mimetype": "text/x-python",
   "name": "python",
   "nbconvert_exporter": "python",
   "pygments_lexer": "ipython3",
   "version": "3.5.1"
  }
 },
 "nbformat": 4,
 "nbformat_minor": 0
}
