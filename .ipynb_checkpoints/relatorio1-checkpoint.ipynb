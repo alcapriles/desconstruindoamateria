{
 "cells": [
  {
   "cell_type": "markdown",
   "metadata": {},
   "source": [
    "## Laboratórios 2 a 4 - Job Rotation\n",
    "## Ensaio de Tração - Determinação do Módulo de Young e do Limite de Escoamento do Alumínio 6351 T6"
   ]
  },
  {
   "cell_type": "markdown",
   "metadata": {},
   "source": [
    "### ASTM Standard E8/E8M"
   ]
  },
  {
   "cell_type": "code",
   "execution_count": 1,
   "metadata": {
    "collapsed": true
   },
   "outputs": [],
   "source": [
    "import pandas as pd\n",
    "%matplotlib inline\n",
    "import matplotlib.pyplot as plt\n",
    "import matplotlib\n",
    "import numpy as np"
   ]
  },
  {
   "cell_type": "code",
   "execution_count": 2,
   "metadata": {
    "collapsed": false
   },
   "outputs": [],
   "source": [
    "ensaio1 = pd.read_csv('AluminioAH1.csv', encoding = \"ISO-8859-1\")\n",
    "ensaio2 = pd.read_csv('AluminioAH2.csv', encoding = \"ISO-8859-1\")"
   ]
  },
  {
   "cell_type": "markdown",
   "metadata": {},
   "source": [
    "## Área da seção transversal dos corpos de prova (mm^2):"
   ]
  },
  {
   "cell_type": "code",
   "execution_count": 3,
   "metadata": {
    "collapsed": true
   },
   "outputs": [],
   "source": [
    "area = 58.088"
   ]
  },
  {
   "cell_type": "markdown",
   "metadata": {},
   "source": [
    "## Inserção da coluna com o valor da tensão (MPa):"
   ]
  },
  {
   "cell_type": "code",
   "execution_count": 4,
   "metadata": {
    "collapsed": true
   },
   "outputs": [],
   "source": [
    "ensaio1.insert(4,'Tensão',ensaio1[\"Force (N)\"]/area) \n",
    "ensaio2.insert(4,'Tensão',ensaio2[\"Force (N)\"]/area) "
   ]
  },
  {
   "cell_type": "markdown",
   "metadata": {
    "collapsed": false
   },
   "source": [
    "## Inserção da coluna com o valor da deformação absoluta"
   ]
  },
  {
   "cell_type": "code",
   "execution_count": 5,
   "metadata": {
    "collapsed": true
   },
   "outputs": [],
   "source": [
    "ensaio1.insert(5, 'Abs Strain', ensaio1['Strain (%)']/100)\n",
    "ensaio2.insert(5, 'Abs Strain', ensaio2['Strain (%)']/100)"
   ]
  },
  {
   "cell_type": "code",
   "execution_count": 6,
   "metadata": {
    "collapsed": false
   },
   "outputs": [
    {
     "data": {
      "text/html": [
       "<div>\n",
       "<table border=\"1\" class=\"dataframe\">\n",
       "  <thead>\n",
       "    <tr style=\"text-align: right;\">\n",
       "      <th></th>\n",
       "      <th>Position (mm)</th>\n",
       "      <th>Force (N)</th>\n",
       "      <th>Strain (%)</th>\n",
       "      <th>Time (min)</th>\n",
       "      <th>Tensão</th>\n",
       "      <th>Abs Strain</th>\n",
       "      <th>Stress (MPa)</th>\n",
       "    </tr>\n",
       "  </thead>\n",
       "  <tbody>\n",
       "    <tr>\n",
       "      <th>0</th>\n",
       "      <td>0.0000</td>\n",
       "      <td>0</td>\n",
       "      <td>0.00000</td>\n",
       "      <td>0.00272</td>\n",
       "      <td>0.000000</td>\n",
       "      <td>0.000000</td>\n",
       "      <td>0.000000</td>\n",
       "    </tr>\n",
       "    <tr>\n",
       "      <th>1</th>\n",
       "      <td>0.0100</td>\n",
       "      <td>75</td>\n",
       "      <td>0.00167</td>\n",
       "      <td>0.00414</td>\n",
       "      <td>1.291144</td>\n",
       "      <td>0.000017</td>\n",
       "      <td>1.291144</td>\n",
       "    </tr>\n",
       "    <tr>\n",
       "      <th>2</th>\n",
       "      <td>0.0210</td>\n",
       "      <td>278</td>\n",
       "      <td>0.00617</td>\n",
       "      <td>0.00866</td>\n",
       "      <td>4.785842</td>\n",
       "      <td>0.000062</td>\n",
       "      <td>4.785842</td>\n",
       "    </tr>\n",
       "    <tr>\n",
       "      <th>3</th>\n",
       "      <td>0.0253</td>\n",
       "      <td>331</td>\n",
       "      <td>0.00733</td>\n",
       "      <td>0.01320</td>\n",
       "      <td>5.698251</td>\n",
       "      <td>0.000073</td>\n",
       "      <td>5.698251</td>\n",
       "    </tr>\n",
       "    <tr>\n",
       "      <th>4</th>\n",
       "      <td>0.0300</td>\n",
       "      <td>370</td>\n",
       "      <td>0.00817</td>\n",
       "      <td>0.01770</td>\n",
       "      <td>6.369646</td>\n",
       "      <td>0.000082</td>\n",
       "      <td>6.369646</td>\n",
       "    </tr>\n",
       "  </tbody>\n",
       "</table>\n",
       "</div>"
      ],
      "text/plain": [
       "   Position (mm)  Force (N)  Strain (%)  Time (min)    Tensão  Abs Strain  \\\n",
       "0         0.0000          0     0.00000     0.00272  0.000000    0.000000   \n",
       "1         0.0100         75     0.00167     0.00414  1.291144    0.000017   \n",
       "2         0.0210        278     0.00617     0.00866  4.785842    0.000062   \n",
       "3         0.0253        331     0.00733     0.01320  5.698251    0.000073   \n",
       "4         0.0300        370     0.00817     0.01770  6.369646    0.000082   \n",
       "\n",
       "   Stress (MPa)  \n",
       "0      0.000000  \n",
       "1      1.291144  \n",
       "2      4.785842  \n",
       "3      5.698251  \n",
       "4      6.369646  "
      ]
     },
     "execution_count": 6,
     "metadata": {},
     "output_type": "execute_result"
    }
   ],
   "source": [
    "ensaio1.head()"
   ]
  },
  {
   "cell_type": "code",
   "execution_count": 17,
   "metadata": {
    "collapsed": false
   },
   "outputs": [
    {
     "name": "stdout",
     "output_type": "stream",
     "text": [
      "Primeiro ensaio: 72391.960787\n",
      "Segundo ensaio: 69737.1518708\n"
     ]
    }
   ],
   "source": [
    "regiao_linear_y1 = [ensaio1['Tensão'][i] for i in range(100,500)]\n",
    "regiao_linear_x1 = [ensaio1['Abs Strain'][i] for i in range(100,500)]\n",
    "\n",
    "slope1, intercept = np.polyfit(regiao_linear_x1, regiao_linear_y1, 1)\n",
    "print('Primeiro ensaio:', slope1)\n",
    "\n",
    "regiao_linear_y2 = [ensaio2['Tensão'][i] for i in range(100,500)]\n",
    "regiao_linear_x2 = [ensaio2['Abs Strain'][i] for i in range(100,500)]\n",
    "\n",
    "slope2, intercept = np.polyfit(regiao_linear_x2, regiao_linear_y2, 1)\n",
    "print('Segundo ensaio:', slope2)"
   ]
  },
  {
   "cell_type": "code",
   "execution_count": 8,
   "metadata": {
    "collapsed": false
   },
   "outputs": [
    {
     "data": {
      "text/plain": [
       "[440]"
      ]
     },
     "execution_count": 8,
     "metadata": {},
     "output_type": "execute_result"
    }
   ],
   "source": [
    "ensaio1[ensaio1['Abs Strain'] == 0.002].index.tolist()\n",
    "#encontrando em que linha está o valor de deformação de 0,2%"
   ]
  },
  {
   "cell_type": "code",
   "execution_count": 9,
   "metadata": {
    "collapsed": false
   },
   "outputs": [
    {
     "data": {
      "text/html": [
       "<div>\n",
       "<table border=\"1\" class=\"dataframe\">\n",
       "  <thead>\n",
       "    <tr style=\"text-align: right;\">\n",
       "      <th></th>\n",
       "      <th>Position (mm)</th>\n",
       "      <th>Force (N)</th>\n",
       "      <th>Strain (%)</th>\n",
       "      <th>Time (min)</th>\n",
       "      <th>Tensão</th>\n",
       "      <th>Abs Strain</th>\n",
       "      <th>Stress (MPa)</th>\n",
       "    </tr>\n",
       "  </thead>\n",
       "  <tbody>\n",
       "    <tr>\n",
       "      <th>500</th>\n",
       "      <td>2.27</td>\n",
       "      <td>10200</td>\n",
       "      <td>0.238</td>\n",
       "      <td>2.26</td>\n",
       "      <td>175.595648</td>\n",
       "      <td>0.00238</td>\n",
       "      <td>175.595648</td>\n",
       "    </tr>\n",
       "  </tbody>\n",
       "</table>\n",
       "</div>"
      ],
      "text/plain": [
       "     Position (mm)  Force (N)  Strain (%)  Time (min)      Tensão  Abs Strain  \\\n",
       "500           2.27      10200       0.238        2.26  175.595648     0.00238   \n",
       "\n",
       "     Stress (MPa)  \n",
       "500    175.595648  "
      ]
     },
     "execution_count": 9,
     "metadata": {},
     "output_type": "execute_result"
    }
   ],
   "source": [
    "ensaio1[500:501]"
   ]
  },
  {
   "cell_type": "code",
   "execution_count": 10,
   "metadata": {
    "collapsed": false
   },
   "outputs": [
    {
     "data": {
      "text/html": [
       "<div>\n",
       "<table border=\"1\" class=\"dataframe\">\n",
       "  <thead>\n",
       "    <tr style=\"text-align: right;\">\n",
       "      <th></th>\n",
       "      <th>Position (mm)</th>\n",
       "      <th>Force (N)</th>\n",
       "      <th>Strain (%)</th>\n",
       "      <th>Time (min)</th>\n",
       "      <th>Tensão</th>\n",
       "      <th>Abs Strain</th>\n",
       "      <th>Stress (MPa)</th>\n",
       "    </tr>\n",
       "  </thead>\n",
       "  <tbody>\n",
       "    <tr>\n",
       "      <th>440</th>\n",
       "      <td>2.0</td>\n",
       "      <td>8710</td>\n",
       "      <td>0.2</td>\n",
       "      <td>1.99</td>\n",
       "      <td>149.944911</td>\n",
       "      <td>0.002</td>\n",
       "      <td>149.944911</td>\n",
       "    </tr>\n",
       "  </tbody>\n",
       "</table>\n",
       "</div>"
      ],
      "text/plain": [
       "     Position (mm)  Force (N)  Strain (%)  Time (min)      Tensão  Abs Strain  \\\n",
       "440            2.0       8710         0.2        1.99  149.944911       0.002   \n",
       "\n",
       "     Stress (MPa)  \n",
       "440    149.944911  "
      ]
     },
     "execution_count": 10,
     "metadata": {},
     "output_type": "execute_result"
    }
   ],
   "source": [
    "ensaio1[440:441]\n",
    "#conferindo"
   ]
  },
  {
   "cell_type": "markdown",
   "metadata": {},
   "source": [
    "### Módulo de Young: inclinação da região linear (regime elástico)"
   ]
  },
  {
   "cell_type": "code",
   "execution_count": 11,
   "metadata": {
    "collapsed": false
   },
   "outputs": [
    {
     "name": "stdout",
     "output_type": "stream",
     "text": [
      "72391.960787\n",
      "69737.1518708\n"
     ]
    },
    {
     "data": {
      "image/png": "[encoded data removed]",
      "text/plain": [
       "<matplotlib.figure.Figure at 0x225f04539b0>"
      ]
     },
     "metadata": {},
     "output_type": "display_data"
    }
   ],
   "source": [
    "ensaio1.plot(kind='scatter', x='Abs Strain', y='Tensão', figsize=(10,10))\n",
    "plt.axis([0,0.02,0,330])\n",
    "plt.title('Tensão vs. Deformação Percentual - Primeiro Ensaio')\n",
    "plt.xticks(np.arange(0, 0.02, 0.001))\n",
    "plt.yticks(np.arange(0, 330, 10))\n",
    "plt.grid()\n",
    "\n",
    "x_min1, x_max1 = 0.002,0.008\n",
    "y_min1, y_max1 = 0, slope1*(x_max1-x_min1)\n",
    "plt.plot([x_min1, x_max1], [y_min1, y_max1])\n",
    "\n",
    "regiao_linear_y1 = [ensaio1['Tensão'][i] for i in range(100,500)]\n",
    "regiao_linear_x1 = [ensaio1['Abs Strain'][i] for i in range(100,500)]\n",
    "\n",
    "slope1, intercept = np.polyfit(regiao_linear_x1, regiao_linear_y1, 1)\n",
    "print(slope1)\n",
    "\n",
    "regiao_linear_y2 = [ensaio2['Tensão'][i] for i in range(100,500)]\n",
    "regiao_linear_x2 = [ensaio2['Abs Strain'][i] for i in range(100,500)]\n",
    "\n",
    "slope2, intercept = np.polyfit(regiao_linear_x2, regiao_linear_y2, 1)\n",
    "print(slope2)"
   ]
  },
  {
   "cell_type": "code",
   "execution_count": 12,
   "metadata": {
    "collapsed": false
   },
   "outputs": [
    {
     "data": {
      "text/plain": [
       "[<matplotlib.lines.Line2D at 0x225f0eb4c88>]"
      ]
     },
     "execution_count": 12,
     "metadata": {},
     "output_type": "execute_result"
    },
    {
     "data": {
      "image/png": "[encoded data removed]",
      "text/plain": [
       "<matplotlib.figure.Figure at 0x225f0461cf8>"
      ]
     },
     "metadata": {},
     "output_type": "display_data"
    }
   ],
   "source": [
    "ensaio2.plot(kind='scatter', x='Abs Strain', y='Tensão', figsize=(10,10))\n",
    "plt.axis([0,0.02,0,330])\n",
    "plt.title('Tensão vs. Deformação Percentual - Segundo Ensaio')\n",
    "plt.yticks(np.arange(0, 330, 10))\n",
    "plt.xticks(np.arange(0, 0.02, 0.001))\n",
    "plt.grid()\n",
    "\n",
    "x_min2, x_max2 = 0.002,0.008\n",
    "y_min2, y_max2 = 0, slope2*(x_max2-x_min2)\n",
    "plt.plot([x_min2, x_max2], [y_min2, y_max2])"
   ]
  },
  {
   "cell_type": "code",
   "execution_count": 13,
   "metadata": {
    "collapsed": false
   },
   "outputs": [
    {
     "data": {
      "text/html": [
       "<div>\n",
       "<table border=\"1\" class=\"dataframe\">\n",
       "  <thead>\n",
       "    <tr style=\"text-align: right;\">\n",
       "      <th></th>\n",
       "      <th>Position (mm)</th>\n",
       "      <th>Force (N)</th>\n",
       "      <th>Strain (%)</th>\n",
       "      <th>Time (min)</th>\n",
       "      <th>Tensão</th>\n",
       "      <th>Abs Strain</th>\n",
       "      <th>Stress (MPa)</th>\n",
       "    </tr>\n",
       "  </thead>\n",
       "  <tbody>\n",
       "    <tr>\n",
       "      <th>814</th>\n",
       "      <td>3.69</td>\n",
       "      <td>18300</td>\n",
       "      <td>0.599</td>\n",
       "      <td>3.68</td>\n",
       "      <td>315.039251</td>\n",
       "      <td>0.00599</td>\n",
       "      <td>315.039251</td>\n",
       "    </tr>\n",
       "    <tr>\n",
       "      <th>815</th>\n",
       "      <td>3.70</td>\n",
       "      <td>18300</td>\n",
       "      <td>0.606</td>\n",
       "      <td>3.69</td>\n",
       "      <td>315.039251</td>\n",
       "      <td>0.00606</td>\n",
       "      <td>315.039251</td>\n",
       "    </tr>\n",
       "    <tr>\n",
       "      <th>816</th>\n",
       "      <td>3.70</td>\n",
       "      <td>18300</td>\n",
       "      <td>0.612</td>\n",
       "      <td>3.69</td>\n",
       "      <td>315.039251</td>\n",
       "      <td>0.00612</td>\n",
       "      <td>315.039251</td>\n",
       "    </tr>\n",
       "    <tr>\n",
       "      <th>817</th>\n",
       "      <td>3.71</td>\n",
       "      <td>18300</td>\n",
       "      <td>0.619</td>\n",
       "      <td>3.69</td>\n",
       "      <td>315.039251</td>\n",
       "      <td>0.00619</td>\n",
       "      <td>315.039251</td>\n",
       "    </tr>\n",
       "    <tr>\n",
       "      <th>818</th>\n",
       "      <td>3.71</td>\n",
       "      <td>18300</td>\n",
       "      <td>0.626</td>\n",
       "      <td>3.70</td>\n",
       "      <td>315.039251</td>\n",
       "      <td>0.00626</td>\n",
       "      <td>315.039251</td>\n",
       "    </tr>\n",
       "    <tr>\n",
       "      <th>819</th>\n",
       "      <td>3.72</td>\n",
       "      <td>18300</td>\n",
       "      <td>0.632</td>\n",
       "      <td>3.70</td>\n",
       "      <td>315.039251</td>\n",
       "      <td>0.00632</td>\n",
       "      <td>315.039251</td>\n",
       "    </tr>\n",
       "    <tr>\n",
       "      <th>820</th>\n",
       "      <td>3.72</td>\n",
       "      <td>18300</td>\n",
       "      <td>0.639</td>\n",
       "      <td>3.71</td>\n",
       "      <td>315.039251</td>\n",
       "      <td>0.00639</td>\n",
       "      <td>315.039251</td>\n",
       "    </tr>\n",
       "    <tr>\n",
       "      <th>821</th>\n",
       "      <td>3.73</td>\n",
       "      <td>18300</td>\n",
       "      <td>0.645</td>\n",
       "      <td>3.71</td>\n",
       "      <td>315.039251</td>\n",
       "      <td>0.00645</td>\n",
       "      <td>315.039251</td>\n",
       "    </tr>\n",
       "    <tr>\n",
       "      <th>822</th>\n",
       "      <td>3.73</td>\n",
       "      <td>18300</td>\n",
       "      <td>0.652</td>\n",
       "      <td>3.72</td>\n",
       "      <td>315.039251</td>\n",
       "      <td>0.00652</td>\n",
       "      <td>315.039251</td>\n",
       "    </tr>\n",
       "    <tr>\n",
       "      <th>823</th>\n",
       "      <td>3.73</td>\n",
       "      <td>18300</td>\n",
       "      <td>0.659</td>\n",
       "      <td>3.72</td>\n",
       "      <td>315.039251</td>\n",
       "      <td>0.00659</td>\n",
       "      <td>315.039251</td>\n",
       "    </tr>\n",
       "    <tr>\n",
       "      <th>824</th>\n",
       "      <td>3.74</td>\n",
       "      <td>18300</td>\n",
       "      <td>0.666</td>\n",
       "      <td>3.73</td>\n",
       "      <td>315.039251</td>\n",
       "      <td>0.00666</td>\n",
       "      <td>315.039251</td>\n",
       "    </tr>\n",
       "    <tr>\n",
       "      <th>825</th>\n",
       "      <td>3.74</td>\n",
       "      <td>18300</td>\n",
       "      <td>0.673</td>\n",
       "      <td>3.73</td>\n",
       "      <td>315.039251</td>\n",
       "      <td>0.00673</td>\n",
       "      <td>315.039251</td>\n",
       "    </tr>\n",
       "    <tr>\n",
       "      <th>826</th>\n",
       "      <td>3.75</td>\n",
       "      <td>18300</td>\n",
       "      <td>0.679</td>\n",
       "      <td>3.73</td>\n",
       "      <td>315.039251</td>\n",
       "      <td>0.00679</td>\n",
       "      <td>315.039251</td>\n",
       "    </tr>\n",
       "    <tr>\n",
       "      <th>827</th>\n",
       "      <td>3.75</td>\n",
       "      <td>18300</td>\n",
       "      <td>0.686</td>\n",
       "      <td>3.74</td>\n",
       "      <td>315.039251</td>\n",
       "      <td>0.00686</td>\n",
       "      <td>315.039251</td>\n",
       "    </tr>\n",
       "    <tr>\n",
       "      <th>828</th>\n",
       "      <td>3.76</td>\n",
       "      <td>18300</td>\n",
       "      <td>0.693</td>\n",
       "      <td>3.74</td>\n",
       "      <td>315.039251</td>\n",
       "      <td>0.00693</td>\n",
       "      <td>315.039251</td>\n",
       "    </tr>\n",
       "    <tr>\n",
       "      <th>829</th>\n",
       "      <td>3.76</td>\n",
       "      <td>18300</td>\n",
       "      <td>0.700</td>\n",
       "      <td>3.75</td>\n",
       "      <td>315.039251</td>\n",
       "      <td>0.00700</td>\n",
       "      <td>315.039251</td>\n",
       "    </tr>\n",
       "  </tbody>\n",
       "</table>\n",
       "</div>"
      ],
      "text/plain": [
       "     Position (mm)  Force (N)  Strain (%)  Time (min)      Tensão  Abs Strain  \\\n",
       "814           3.69      18300       0.599        3.68  315.039251     0.00599   \n",
       "815           3.70      18300       0.606        3.69  315.039251     0.00606   \n",
       "816           3.70      18300       0.612        3.69  315.039251     0.00612   \n",
       "817           3.71      18300       0.619        3.69  315.039251     0.00619   \n",
       "818           3.71      18300       0.626        3.70  315.039251     0.00626   \n",
       "819           3.72      18300       0.632        3.70  315.039251     0.00632   \n",
       "820           3.72      18300       0.639        3.71  315.039251     0.00639   \n",
       "821           3.73      18300       0.645        3.71  315.039251     0.00645   \n",
       "822           3.73      18300       0.652        3.72  315.039251     0.00652   \n",
       "823           3.73      18300       0.659        3.72  315.039251     0.00659   \n",
       "824           3.74      18300       0.666        3.73  315.039251     0.00666   \n",
       "825           3.74      18300       0.673        3.73  315.039251     0.00673   \n",
       "826           3.75      18300       0.679        3.73  315.039251     0.00679   \n",
       "827           3.75      18300       0.686        3.74  315.039251     0.00686   \n",
       "828           3.76      18300       0.693        3.74  315.039251     0.00693   \n",
       "829           3.76      18300       0.700        3.75  315.039251     0.00700   \n",
       "\n",
       "     Stress (MPa)  \n",
       "814    315.039251  \n",
       "815    315.039251  \n",
       "816    315.039251  \n",
       "817    315.039251  \n",
       "818    315.039251  \n",
       "819    315.039251  \n",
       "820    315.039251  \n",
       "821    315.039251  \n",
       "822    315.039251  \n",
       "823    315.039251  \n",
       "824    315.039251  \n",
       "825    315.039251  \n",
       "826    315.039251  \n",
       "827    315.039251  \n",
       "828    315.039251  \n",
       "829    315.039251  "
      ]
     },
     "execution_count": 13,
     "metadata": {},
     "output_type": "execute_result"
    }
   ],
   "source": [
    "ensaio1[814:830]"
   ]
  },
  {
   "cell_type": "code",
   "execution_count": 25,
   "metadata": {
    "collapsed": false
   },
   "outputs": [
    {
     "data": {
      "text/html": [
       "<div>\n",
       "<table border=\"1\" class=\"dataframe\">\n",
       "  <thead>\n",
       "    <tr style=\"text-align: right;\">\n",
       "      <th></th>\n",
       "      <th>Position (mm)</th>\n",
       "      <th>Force (N)</th>\n",
       "      <th>Strain (%)</th>\n",
       "      <th>Time (min)</th>\n",
       "      <th>Tensão</th>\n",
       "      <th>Abs Strain</th>\n",
       "    </tr>\n",
       "  </thead>\n",
       "  <tbody>\n",
       "    <tr>\n",
       "      <th>838</th>\n",
       "      <td>4.09</td>\n",
       "      <td>18300.0</td>\n",
       "      <td>0.596</td>\n",
       "      <td>4.07</td>\n",
       "      <td>315.039251</td>\n",
       "      <td>0.00596</td>\n",
       "    </tr>\n",
       "    <tr>\n",
       "      <th>839</th>\n",
       "      <td>4.09</td>\n",
       "      <td>18300.0</td>\n",
       "      <td>0.603</td>\n",
       "      <td>4.08</td>\n",
       "      <td>315.039251</td>\n",
       "      <td>0.00603</td>\n",
       "    </tr>\n",
       "    <tr>\n",
       "      <th>840</th>\n",
       "      <td>4.10</td>\n",
       "      <td>18300.0</td>\n",
       "      <td>0.609</td>\n",
       "      <td>4.08</td>\n",
       "      <td>315.039251</td>\n",
       "      <td>0.00609</td>\n",
       "    </tr>\n",
       "    <tr>\n",
       "      <th>841</th>\n",
       "      <td>4.10</td>\n",
       "      <td>18300.0</td>\n",
       "      <td>0.616</td>\n",
       "      <td>4.09</td>\n",
       "      <td>315.039251</td>\n",
       "      <td>0.00616</td>\n",
       "    </tr>\n",
       "    <tr>\n",
       "      <th>842</th>\n",
       "      <td>4.11</td>\n",
       "      <td>18300.0</td>\n",
       "      <td>0.623</td>\n",
       "      <td>4.09</td>\n",
       "      <td>315.039251</td>\n",
       "      <td>0.00623</td>\n",
       "    </tr>\n",
       "    <tr>\n",
       "      <th>843</th>\n",
       "      <td>4.11</td>\n",
       "      <td>18300.0</td>\n",
       "      <td>0.630</td>\n",
       "      <td>4.10</td>\n",
       "      <td>315.039251</td>\n",
       "      <td>0.00630</td>\n",
       "    </tr>\n",
       "    <tr>\n",
       "      <th>844</th>\n",
       "      <td>4.12</td>\n",
       "      <td>18300.0</td>\n",
       "      <td>0.637</td>\n",
       "      <td>4.10</td>\n",
       "      <td>315.039251</td>\n",
       "      <td>0.00637</td>\n",
       "    </tr>\n",
       "    <tr>\n",
       "      <th>845</th>\n",
       "      <td>4.12</td>\n",
       "      <td>18300.0</td>\n",
       "      <td>0.645</td>\n",
       "      <td>4.11</td>\n",
       "      <td>315.039251</td>\n",
       "      <td>0.00645</td>\n",
       "    </tr>\n",
       "    <tr>\n",
       "      <th>846</th>\n",
       "      <td>4.13</td>\n",
       "      <td>18300.0</td>\n",
       "      <td>0.652</td>\n",
       "      <td>4.11</td>\n",
       "      <td>315.039251</td>\n",
       "      <td>0.00652</td>\n",
       "    </tr>\n",
       "    <tr>\n",
       "      <th>847</th>\n",
       "      <td>4.13</td>\n",
       "      <td>18300.0</td>\n",
       "      <td>0.659</td>\n",
       "      <td>4.12</td>\n",
       "      <td>315.039251</td>\n",
       "      <td>0.00659</td>\n",
       "    </tr>\n",
       "    <tr>\n",
       "      <th>848</th>\n",
       "      <td>4.14</td>\n",
       "      <td>18300.0</td>\n",
       "      <td>0.666</td>\n",
       "      <td>4.12</td>\n",
       "      <td>315.039251</td>\n",
       "      <td>0.00666</td>\n",
       "    </tr>\n",
       "    <tr>\n",
       "      <th>849</th>\n",
       "      <td>4.14</td>\n",
       "      <td>18300.0</td>\n",
       "      <td>0.674</td>\n",
       "      <td>4.13</td>\n",
       "      <td>315.039251</td>\n",
       "      <td>0.00674</td>\n",
       "    </tr>\n",
       "    <tr>\n",
       "      <th>850</th>\n",
       "      <td>4.15</td>\n",
       "      <td>18300.0</td>\n",
       "      <td>0.681</td>\n",
       "      <td>4.13</td>\n",
       "      <td>315.039251</td>\n",
       "      <td>0.00681</td>\n",
       "    </tr>\n",
       "    <tr>\n",
       "      <th>851</th>\n",
       "      <td>4.15</td>\n",
       "      <td>18300.0</td>\n",
       "      <td>0.688</td>\n",
       "      <td>4.14</td>\n",
       "      <td>315.039251</td>\n",
       "      <td>0.00688</td>\n",
       "    </tr>\n",
       "    <tr>\n",
       "      <th>852</th>\n",
       "      <td>4.16</td>\n",
       "      <td>18300.0</td>\n",
       "      <td>0.695</td>\n",
       "      <td>4.14</td>\n",
       "      <td>315.039251</td>\n",
       "      <td>0.00695</td>\n",
       "    </tr>\n",
       "    <tr>\n",
       "      <th>853</th>\n",
       "      <td>4.16</td>\n",
       "      <td>18300.0</td>\n",
       "      <td>0.703</td>\n",
       "      <td>4.15</td>\n",
       "      <td>315.039251</td>\n",
       "      <td>0.00703</td>\n",
       "    </tr>\n",
       "  </tbody>\n",
       "</table>\n",
       "</div>"
      ],
      "text/plain": [
       "     Position (mm)  Force (N)  Strain (%)  Time (min)      Tensão  Abs Strain\n",
       "838           4.09    18300.0       0.596        4.07  315.039251     0.00596\n",
       "839           4.09    18300.0       0.603        4.08  315.039251     0.00603\n",
       "840           4.10    18300.0       0.609        4.08  315.039251     0.00609\n",
       "841           4.10    18300.0       0.616        4.09  315.039251     0.00616\n",
       "842           4.11    18300.0       0.623        4.09  315.039251     0.00623\n",
       "843           4.11    18300.0       0.630        4.10  315.039251     0.00630\n",
       "844           4.12    18300.0       0.637        4.10  315.039251     0.00637\n",
       "845           4.12    18300.0       0.645        4.11  315.039251     0.00645\n",
       "846           4.13    18300.0       0.652        4.11  315.039251     0.00652\n",
       "847           4.13    18300.0       0.659        4.12  315.039251     0.00659\n",
       "848           4.14    18300.0       0.666        4.12  315.039251     0.00666\n",
       "849           4.14    18300.0       0.674        4.13  315.039251     0.00674\n",
       "850           4.15    18300.0       0.681        4.13  315.039251     0.00681\n",
       "851           4.15    18300.0       0.688        4.14  315.039251     0.00688\n",
       "852           4.16    18300.0       0.695        4.14  315.039251     0.00695\n",
       "853           4.16    18300.0       0.703        4.15  315.039251     0.00703"
      ]
     },
     "execution_count": 25,
     "metadata": {},
     "output_type": "execute_result"
    }
   ],
   "source": [
    "ensaio2[838:854]"
   ]
  },
  {
   "cell_type": "markdown",
   "metadata": {},
   "source": [
    "## Resultados"
   ]
  },
  {
   "cell_type": "markdown",
   "metadata": {},
   "source": [
    "Como é possível obvervar pelos gráficos, a intersecção da reta paralela com a curva está entre as deformações de 0.006 e 0.007, as quais,\n",
    "consultando no dataframe, mostram que o limite de escoamento é igual a 315.039 MPa para ambos os ensaios."
   ]
  },
  {
   "cell_type": "markdown",
   "metadata": {},
   "source": [
    "Já o cálculo da inclinação resultou no módulo de elasticidade, ou módulo de Young, o qual resultou em 72,4 GPa para o\n",
    "primeiro ensaio e em 69,74 GPa para o segundo ensaio."
   ]
  }
 ],
 "metadata": {
  "kernelspec": {
   "display_name": "Python 3",
   "language": "python",
   "name": "python3"
  },
  "language_info": {
   "codemirror_mode": {
    "name": "ipython",
    "version": 3
   },
   "file_extension": ".py",
   "mimetype": "text/x-python",
   "name": "python",
   "nbconvert_exporter": "python",
   "pygments_lexer": "ipython3",
   "version": "3.5.1"
  }
 },
 "nbformat": 4,
 "nbformat_minor": 0
}
