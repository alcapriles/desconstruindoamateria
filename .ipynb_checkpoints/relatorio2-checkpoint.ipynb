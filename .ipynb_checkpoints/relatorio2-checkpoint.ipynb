{
 "cells": [
  {
   "cell_type": "markdown",
   "metadata": {},
   "source": [
    "## Laboratórios 5 a 7\n",
    "## Estudo de caso: metais"
   ]
  },
  {
   "cell_type": "markdown",
   "metadata": {},
   "source": [
    "## Determinação do metal contido em uma amostra - Ensaio de Tração"
   ]
  },
  {
   "cell_type": "markdown",
   "metadata": {},
   "source": [
    "### ASTM Standard E8/E8M"
   ]
  },
  {
   "cell_type": "code",
   "execution_count": 1,
   "metadata": {
    "collapsed": true
   },
   "outputs": [],
   "source": [
    "import pandas as pd\n",
    "%matplotlib inline\n",
    "import matplotlib.pyplot as plt\n",
    "import matplotlib\n",
    "import numpy as np"
   ]
  },
  {
   "cell_type": "code",
   "execution_count": 2,
   "metadata": {
    "collapsed": false
   },
   "outputs": [],
   "source": [
    "ensaio1 = pd.read_csv('acoAF1.csv', encoding = \"ISO-8859-1\")\n",
    "ensaio2 = pd.read_csv('acoAF2.csv', encoding = \"ISO-8859-1\")"
   ]
  },
  {
   "cell_type": "markdown",
   "metadata": {},
   "source": [
    "## Área da seção transversal dos corpos de prova (mm^2):"
   ]
  },
  {
   "cell_type": "code",
   "execution_count": 3,
   "metadata": {
    "collapsed": true
   },
   "outputs": [],
   "source": [
    "area1 = 60.82 #área do corpo de prova 1, milímetros quadrados\n",
    "area2 = 59.45 #área do corpo de prova 2, milímetros quadrados"
   ]
  },
  {
   "cell_type": "markdown",
   "metadata": {},
   "source": [
    "## Inserção da coluna com o valor da tensão (MPa):"
   ]
  },
  {
   "cell_type": "code",
   "execution_count": 4,
   "metadata": {
    "collapsed": false
   },
   "outputs": [],
   "source": [
    "ensaio1.insert(4,'Tensão',ensaio1[\"Force (N)\"]/area1) \n",
    "ensaio1.insert(5, 'strain(%)', ensaio1['Strain (%)'] - ensaio1['Strain (%)'][0])\n",
    "ensaio2.insert(4,'Tensão',ensaio2[\"Force (N)\"]/area2)"
   ]
  },
  {
   "cell_type": "markdown",
   "metadata": {
    "collapsed": false
   },
   "source": [
    "## Inserção da coluna com o valor da deformação absoluta"
   ]
  },
  {
   "cell_type": "code",
   "execution_count": 5,
   "metadata": {
    "collapsed": false
   },
   "outputs": [],
   "source": [
    "ensaio1.insert(5, 'Abs Strain', ensaio1['strain(%)']/100)\n",
    "ensaio2.insert(5, 'Abs Strain', ensaio2['Strain (%)']/100)"
   ]
  },
  {
   "cell_type": "code",
   "execution_count": 6,
   "metadata": {
    "collapsed": false
   },
   "outputs": [
    {
     "name": "stdout",
     "output_type": "stream",
     "text": [
      "Primeiro ensaio: 206907.0226\n",
      "Segundo ensaio: 218622.719594\n"
     ]
    }
   ],
   "source": [
    "regiao_linear_y1 = [ensaio1['Tensão'][i] for i in range(100,500)]\n",
    "regiao_linear_x1 = [ensaio1['Abs Strain'][i] for i in range(100,500)]\n",
    "\n",
    "slope1, intercept = np.polyfit(regiao_linear_x1, regiao_linear_y1, 1)\n",
    "print('Primeiro ensaio:', slope1)\n",
    "\n",
    "regiao_linear_y2 = [ensaio2['Tensão'][i] for i in range(100,500)]\n",
    "regiao_linear_x2 = [ensaio2['Abs Strain'][i] for i in range(100,500)]\n",
    "\n",
    "slope2, intercept = np.polyfit(regiao_linear_x2, regiao_linear_y2, 1)\n",
    "print('Segundo ensaio:', slope2)"
   ]
  },
  {
   "cell_type": "code",
   "execution_count": 7,
   "metadata": {
    "collapsed": false
   },
   "outputs": [
    {
     "data": {
      "text/plain": [
       "[595]"
      ]
     },
     "execution_count": 7,
     "metadata": {},
     "output_type": "execute_result"
    }
   ],
   "source": [
    "ensaio1[ensaio1['Abs Strain'] == 0.002].index.tolist()\n",
    "#encontrando em que linha está o valor de deformação de 0,2%"
   ]
  },
  {
   "cell_type": "code",
   "execution_count": 8,
   "metadata": {
    "collapsed": false
   },
   "outputs": [
    {
     "data": {
      "text/html": [
       "<div>\n",
       "<table border=\"1\" class=\"dataframe\">\n",
       "  <thead>\n",
       "    <tr style=\"text-align: right;\">\n",
       "      <th></th>\n",
       "      <th>Position (mm)</th>\n",
       "      <th>Force (N)</th>\n",
       "      <th>Strain (%)</th>\n",
       "      <th>Time (min)</th>\n",
       "      <th>Tensão</th>\n",
       "      <th>Abs Strain</th>\n",
       "      <th>strain(%)</th>\n",
       "    </tr>\n",
       "  </thead>\n",
       "  <tbody>\n",
       "    <tr>\n",
       "      <th>595</th>\n",
       "      <td>2.6</td>\n",
       "      <td>15300.0</td>\n",
       "      <td>0.081</td>\n",
       "      <td>2.56</td>\n",
       "      <td>251.561986</td>\n",
       "      <td>0.002</td>\n",
       "      <td>0.2</td>\n",
       "    </tr>\n",
       "  </tbody>\n",
       "</table>\n",
       "</div>"
      ],
      "text/plain": [
       "     Position (mm)  Force (N)  Strain (%)  Time (min)      Tensão  Abs Strain  \\\n",
       "595            2.6    15300.0       0.081        2.56  251.561986       0.002   \n",
       "\n",
       "     strain(%)  \n",
       "595        0.2  "
      ]
     },
     "execution_count": 8,
     "metadata": {},
     "output_type": "execute_result"
    }
   ],
   "source": [
    "ensaio1[595:596]"
   ]
  },
  {
   "cell_type": "markdown",
   "metadata": {},
   "source": [
    "### Módulo de Young: inclinação da região linear (regime elástico)"
   ]
  },
  {
   "cell_type": "code",
   "execution_count": 9,
   "metadata": {
    "collapsed": false
   },
   "outputs": [
    {
     "name": "stdout",
     "output_type": "stream",
     "text": [
      "206907.0226\n",
      "218622.719594\n"
     ]
    },
    {
     "data": {
      "image/png": "[encoded data removed]",
      "text/plain": [
       "<matplotlib.figure.Figure at 0x21ba5ec9f60>"
      ]
     },
     "metadata": {},
     "output_type": "display_data"
    }
   ],
   "source": [
    "ensaio1.plot(kind='scatter', x='Abs Strain', y='Tensão', figsize=(10,10))\n",
    "plt.axis([0,0.0110,0,320])\n",
    "plt.title('Tensão vs. Deformação Percentual - Primeiro Ensaio')\n",
    "plt.xticks(np.arange(0, 0.0110, 0.001))\n",
    "plt.yticks(np.arange(0, 320, 10))\n",
    "plt.grid()\n",
    "\n",
    "x_min1, x_max1 = 0.002,0.008\n",
    "y_min1, y_max1 = 0, slope1*(x_max1-x_min1)\n",
    "plt.plot([x_min1, x_max1], [y_min1, y_max1])\n",
    "\n",
    "regiao_linear_y1 = [ensaio1['Tensão'][i] for i in range(100,500)]\n",
    "regiao_linear_x1 = [ensaio1['Abs Strain'][i] for i in range(100,500)]\n",
    "\n",
    "slope1, intercept = np.polyfit(regiao_linear_x1, regiao_linear_y1, 1)\n",
    "print(slope1)\n",
    "\n",
    "regiao_linear_y2 = [ensaio2['Tensão'][i] for i in range(100,500)]\n",
    "regiao_linear_x2 = [ensaio2['Abs Strain'][i] for i in range(100,500)]\n",
    "\n",
    "slope2, intercept = np.polyfit(regiao_linear_x2, regiao_linear_y2, 1)\n",
    "print(slope2)"
   ]
  },
  {
   "cell_type": "code",
   "execution_count": 10,
   "metadata": {
    "collapsed": false
   },
   "outputs": [
    {
     "data": {
      "text/plain": [
       "[<matplotlib.lines.Line2D at 0x21ba6901630>]"
      ]
     },
     "execution_count": 10,
     "metadata": {},
     "output_type": "execute_result"
    },
    {
     "data": {
      "image/png": "[encoded data removed]",
      "text/plain": [
       "<matplotlib.figure.Figure at 0x21ba5e61438>"
      ]
     },
     "metadata": {},
     "output_type": "display_data"
    }
   ],
   "source": [
    "ensaio2.plot(kind='scatter', x='Abs Strain', y='Tensão', figsize=(10,10))\n",
    "plt.axis([0,0.0110,0,320])\n",
    "plt.title('Tensão vs. Deformação Percentual - Segundo Ensaio')\n",
    "plt.yticks(np.arange(0, 320, 10))\n",
    "plt.xticks(np.arange(0, 0.0110, 0.001))\n",
    "plt.grid()\n",
    "\n",
    "x_min2, x_max2 = 0.002,0.008\n",
    "y_min2, y_max2 = 0, slope2*(x_max2-x_min2)\n",
    "plt.plot([x_min2, x_max2], [y_min2, y_max2])"
   ]
  },
  {
   "cell_type": "markdown",
   "metadata": {},
   "source": [
    "Os módulos de Young são de 216,64 GPa para o primeiro ensaio e de 223,75 GPa para o segundo ensaio."
   ]
  },
  {
   "cell_type": "markdown",
   "metadata": {},
   "source": [
    "## Determinação do limite de escoamento"
   ]
  },
  {
   "cell_type": "markdown",
   "metadata": {},
   "source": [
    "Observamos, pelo gráfico, que o limite de escoamento pelo padrão ASTM Standard E8/E8M se encontra entre as deformações absolutas de 0.003 e 0.004.\n",
    "Sendo assim, basta verificar no dataframe os valores da tensão para estes valores de deformação absoluta."
   ]
  },
  {
   "cell_type": "code",
   "execution_count": 11,
   "metadata": {
    "collapsed": false
   },
   "outputs": [
    {
     "data": {
      "text/html": [
       "<div>\n",
       "<table border=\"1\" class=\"dataframe\">\n",
       "  <thead>\n",
       "    <tr style=\"text-align: right;\">\n",
       "      <th></th>\n",
       "      <th>Position (mm)</th>\n",
       "      <th>Force (N)</th>\n",
       "      <th>Strain (%)</th>\n",
       "      <th>Time (min)</th>\n",
       "      <th>Tensão</th>\n",
       "      <th>Abs Strain</th>\n",
       "      <th>strain(%)</th>\n",
       "    </tr>\n",
       "  </thead>\n",
       "  <tbody>\n",
       "    <tr>\n",
       "      <th>606</th>\n",
       "      <td>2.65</td>\n",
       "      <td>14500.0</td>\n",
       "      <td>0.187</td>\n",
       "      <td>2.61</td>\n",
       "      <td>238.408418</td>\n",
       "      <td>0.00306</td>\n",
       "      <td>0.306</td>\n",
       "    </tr>\n",
       "    <tr>\n",
       "      <th>607</th>\n",
       "      <td>2.66</td>\n",
       "      <td>14500.0</td>\n",
       "      <td>0.194</td>\n",
       "      <td>2.62</td>\n",
       "      <td>238.408418</td>\n",
       "      <td>0.00313</td>\n",
       "      <td>0.313</td>\n",
       "    </tr>\n",
       "    <tr>\n",
       "      <th>608</th>\n",
       "      <td>2.66</td>\n",
       "      <td>14500.0</td>\n",
       "      <td>0.201</td>\n",
       "      <td>2.62</td>\n",
       "      <td>238.408418</td>\n",
       "      <td>0.00320</td>\n",
       "      <td>0.320</td>\n",
       "    </tr>\n",
       "    <tr>\n",
       "      <th>609</th>\n",
       "      <td>2.66</td>\n",
       "      <td>14500.0</td>\n",
       "      <td>0.208</td>\n",
       "      <td>2.62</td>\n",
       "      <td>238.408418</td>\n",
       "      <td>0.00327</td>\n",
       "      <td>0.327</td>\n",
       "    </tr>\n",
       "    <tr>\n",
       "      <th>610</th>\n",
       "      <td>2.67</td>\n",
       "      <td>14500.0</td>\n",
       "      <td>0.214</td>\n",
       "      <td>2.63</td>\n",
       "      <td>238.408418</td>\n",
       "      <td>0.00333</td>\n",
       "      <td>0.333</td>\n",
       "    </tr>\n",
       "    <tr>\n",
       "      <th>611</th>\n",
       "      <td>2.67</td>\n",
       "      <td>14500.0</td>\n",
       "      <td>0.221</td>\n",
       "      <td>2.63</td>\n",
       "      <td>238.408418</td>\n",
       "      <td>0.00340</td>\n",
       "      <td>0.340</td>\n",
       "    </tr>\n",
       "    <tr>\n",
       "      <th>612</th>\n",
       "      <td>2.68</td>\n",
       "      <td>14500.0</td>\n",
       "      <td>0.229</td>\n",
       "      <td>2.64</td>\n",
       "      <td>238.408418</td>\n",
       "      <td>0.00348</td>\n",
       "      <td>0.348</td>\n",
       "    </tr>\n",
       "    <tr>\n",
       "      <th>613</th>\n",
       "      <td>2.68</td>\n",
       "      <td>14500.0</td>\n",
       "      <td>0.237</td>\n",
       "      <td>2.64</td>\n",
       "      <td>238.408418</td>\n",
       "      <td>0.00356</td>\n",
       "      <td>0.356</td>\n",
       "    </tr>\n",
       "    <tr>\n",
       "      <th>614</th>\n",
       "      <td>2.69</td>\n",
       "      <td>14500.0</td>\n",
       "      <td>0.244</td>\n",
       "      <td>2.65</td>\n",
       "      <td>238.408418</td>\n",
       "      <td>0.00363</td>\n",
       "      <td>0.363</td>\n",
       "    </tr>\n",
       "    <tr>\n",
       "      <th>615</th>\n",
       "      <td>2.69</td>\n",
       "      <td>14600.0</td>\n",
       "      <td>0.251</td>\n",
       "      <td>2.65</td>\n",
       "      <td>240.052614</td>\n",
       "      <td>0.00370</td>\n",
       "      <td>0.370</td>\n",
       "    </tr>\n",
       "    <tr>\n",
       "      <th>616</th>\n",
       "      <td>2.69</td>\n",
       "      <td>14600.0</td>\n",
       "      <td>0.257</td>\n",
       "      <td>2.65</td>\n",
       "      <td>240.052614</td>\n",
       "      <td>0.00376</td>\n",
       "      <td>0.376</td>\n",
       "    </tr>\n",
       "    <tr>\n",
       "      <th>617</th>\n",
       "      <td>2.70</td>\n",
       "      <td>14600.0</td>\n",
       "      <td>0.263</td>\n",
       "      <td>2.66</td>\n",
       "      <td>240.052614</td>\n",
       "      <td>0.00382</td>\n",
       "      <td>0.382</td>\n",
       "    </tr>\n",
       "    <tr>\n",
       "      <th>618</th>\n",
       "      <td>2.70</td>\n",
       "      <td>14600.0</td>\n",
       "      <td>0.269</td>\n",
       "      <td>2.66</td>\n",
       "      <td>240.052614</td>\n",
       "      <td>0.00388</td>\n",
       "      <td>0.388</td>\n",
       "    </tr>\n",
       "    <tr>\n",
       "      <th>619</th>\n",
       "      <td>2.71</td>\n",
       "      <td>14700.0</td>\n",
       "      <td>0.275</td>\n",
       "      <td>2.67</td>\n",
       "      <td>241.696810</td>\n",
       "      <td>0.00394</td>\n",
       "      <td>0.394</td>\n",
       "    </tr>\n",
       "    <tr>\n",
       "      <th>620</th>\n",
       "      <td>2.71</td>\n",
       "      <td>14700.0</td>\n",
       "      <td>0.281</td>\n",
       "      <td>2.67</td>\n",
       "      <td>241.696810</td>\n",
       "      <td>0.00400</td>\n",
       "      <td>0.400</td>\n",
       "    </tr>\n",
       "    <tr>\n",
       "      <th>621</th>\n",
       "      <td>2.72</td>\n",
       "      <td>14700.0</td>\n",
       "      <td>0.288</td>\n",
       "      <td>2.68</td>\n",
       "      <td>241.696810</td>\n",
       "      <td>0.00407</td>\n",
       "      <td>0.407</td>\n",
       "    </tr>\n",
       "    <tr>\n",
       "      <th>622</th>\n",
       "      <td>2.72</td>\n",
       "      <td>14700.0</td>\n",
       "      <td>0.296</td>\n",
       "      <td>2.68</td>\n",
       "      <td>241.696810</td>\n",
       "      <td>0.00415</td>\n",
       "      <td>0.415</td>\n",
       "    </tr>\n",
       "    <tr>\n",
       "      <th>623</th>\n",
       "      <td>2.72</td>\n",
       "      <td>14700.0</td>\n",
       "      <td>0.305</td>\n",
       "      <td>2.68</td>\n",
       "      <td>241.696810</td>\n",
       "      <td>0.00424</td>\n",
       "      <td>0.424</td>\n",
       "    </tr>\n",
       "    <tr>\n",
       "      <th>624</th>\n",
       "      <td>2.73</td>\n",
       "      <td>14700.0</td>\n",
       "      <td>0.314</td>\n",
       "      <td>2.69</td>\n",
       "      <td>241.696810</td>\n",
       "      <td>0.00433</td>\n",
       "      <td>0.433</td>\n",
       "    </tr>\n",
       "  </tbody>\n",
       "</table>\n",
       "</div>"
      ],
      "text/plain": [
       "     Position (mm)  Force (N)  Strain (%)  Time (min)      Tensão  Abs Strain  \\\n",
       "606           2.65    14500.0       0.187        2.61  238.408418     0.00306   \n",
       "607           2.66    14500.0       0.194        2.62  238.408418     0.00313   \n",
       "608           2.66    14500.0       0.201        2.62  238.408418     0.00320   \n",
       "609           2.66    14500.0       0.208        2.62  238.408418     0.00327   \n",
       "610           2.67    14500.0       0.214        2.63  238.408418     0.00333   \n",
       "611           2.67    14500.0       0.221        2.63  238.408418     0.00340   \n",
       "612           2.68    14500.0       0.229        2.64  238.408418     0.00348   \n",
       "613           2.68    14500.0       0.237        2.64  238.408418     0.00356   \n",
       "614           2.69    14500.0       0.244        2.65  238.408418     0.00363   \n",
       "615           2.69    14600.0       0.251        2.65  240.052614     0.00370   \n",
       "616           2.69    14600.0       0.257        2.65  240.052614     0.00376   \n",
       "617           2.70    14600.0       0.263        2.66  240.052614     0.00382   \n",
       "618           2.70    14600.0       0.269        2.66  240.052614     0.00388   \n",
       "619           2.71    14700.0       0.275        2.67  241.696810     0.00394   \n",
       "620           2.71    14700.0       0.281        2.67  241.696810     0.00400   \n",
       "621           2.72    14700.0       0.288        2.68  241.696810     0.00407   \n",
       "622           2.72    14700.0       0.296        2.68  241.696810     0.00415   \n",
       "623           2.72    14700.0       0.305        2.68  241.696810     0.00424   \n",
       "624           2.73    14700.0       0.314        2.69  241.696810     0.00433   \n",
       "\n",
       "     strain(%)  \n",
       "606      0.306  \n",
       "607      0.313  \n",
       "608      0.320  \n",
       "609      0.327  \n",
       "610      0.333  \n",
       "611      0.340  \n",
       "612      0.348  \n",
       "613      0.356  \n",
       "614      0.363  \n",
       "615      0.370  \n",
       "616      0.376  \n",
       "617      0.382  \n",
       "618      0.388  \n",
       "619      0.394  \n",
       "620      0.400  \n",
       "621      0.407  \n",
       "622      0.415  \n",
       "623      0.424  \n",
       "624      0.433  "
      ]
     },
     "execution_count": 11,
     "metadata": {},
     "output_type": "execute_result"
    }
   ],
   "source": [
    "ensaio1[606:625]"
   ]
  },
  {
   "cell_type": "code",
   "execution_count": 12,
   "metadata": {
    "collapsed": false
   },
   "outputs": [
    {
     "data": {
      "text/html": [
       "<div>\n",
       "<table border=\"1\" class=\"dataframe\">\n",
       "  <thead>\n",
       "    <tr style=\"text-align: right;\">\n",
       "      <th></th>\n",
       "      <th>Position (mm)</th>\n",
       "      <th>Force (N)</th>\n",
       "      <th>Strain (%)</th>\n",
       "      <th>Time (min)</th>\n",
       "      <th>Tensão</th>\n",
       "      <th>Abs Strain</th>\n",
       "    </tr>\n",
       "  </thead>\n",
       "  <tbody>\n",
       "    <tr>\n",
       "      <th>686</th>\n",
       "      <td>3.39</td>\n",
       "      <td>15000.0</td>\n",
       "      <td>0.301</td>\n",
       "      <td>3.37</td>\n",
       "      <td>252.312868</td>\n",
       "      <td>0.00301</td>\n",
       "    </tr>\n",
       "    <tr>\n",
       "      <th>687</th>\n",
       "      <td>3.40</td>\n",
       "      <td>15000.0</td>\n",
       "      <td>0.308</td>\n",
       "      <td>3.38</td>\n",
       "      <td>252.312868</td>\n",
       "      <td>0.00308</td>\n",
       "    </tr>\n",
       "    <tr>\n",
       "      <th>688</th>\n",
       "      <td>3.40</td>\n",
       "      <td>15000.0</td>\n",
       "      <td>0.317</td>\n",
       "      <td>3.38</td>\n",
       "      <td>252.312868</td>\n",
       "      <td>0.00317</td>\n",
       "    </tr>\n",
       "    <tr>\n",
       "      <th>689</th>\n",
       "      <td>3.41</td>\n",
       "      <td>14900.0</td>\n",
       "      <td>0.327</td>\n",
       "      <td>3.39</td>\n",
       "      <td>250.630782</td>\n",
       "      <td>0.00327</td>\n",
       "    </tr>\n",
       "    <tr>\n",
       "      <th>690</th>\n",
       "      <td>3.41</td>\n",
       "      <td>14900.0</td>\n",
       "      <td>0.336</td>\n",
       "      <td>3.39</td>\n",
       "      <td>250.630782</td>\n",
       "      <td>0.00336</td>\n",
       "    </tr>\n",
       "    <tr>\n",
       "      <th>691</th>\n",
       "      <td>3.42</td>\n",
       "      <td>14900.0</td>\n",
       "      <td>0.345</td>\n",
       "      <td>3.40</td>\n",
       "      <td>250.630782</td>\n",
       "      <td>0.00345</td>\n",
       "    </tr>\n",
       "    <tr>\n",
       "      <th>692</th>\n",
       "      <td>3.42</td>\n",
       "      <td>14900.0</td>\n",
       "      <td>0.354</td>\n",
       "      <td>3.40</td>\n",
       "      <td>250.630782</td>\n",
       "      <td>0.00354</td>\n",
       "    </tr>\n",
       "    <tr>\n",
       "      <th>693</th>\n",
       "      <td>3.43</td>\n",
       "      <td>14900.0</td>\n",
       "      <td>0.363</td>\n",
       "      <td>3.41</td>\n",
       "      <td>250.630782</td>\n",
       "      <td>0.00363</td>\n",
       "    </tr>\n",
       "    <tr>\n",
       "      <th>694</th>\n",
       "      <td>3.43</td>\n",
       "      <td>14900.0</td>\n",
       "      <td>0.371</td>\n",
       "      <td>3.41</td>\n",
       "      <td>250.630782</td>\n",
       "      <td>0.00371</td>\n",
       "    </tr>\n",
       "    <tr>\n",
       "      <th>695</th>\n",
       "      <td>3.44</td>\n",
       "      <td>14900.0</td>\n",
       "      <td>0.381</td>\n",
       "      <td>3.42</td>\n",
       "      <td>250.630782</td>\n",
       "      <td>0.00381</td>\n",
       "    </tr>\n",
       "    <tr>\n",
       "      <th>696</th>\n",
       "      <td>3.44</td>\n",
       "      <td>14900.0</td>\n",
       "      <td>0.390</td>\n",
       "      <td>3.42</td>\n",
       "      <td>250.630782</td>\n",
       "      <td>0.00390</td>\n",
       "    </tr>\n",
       "    <tr>\n",
       "      <th>697</th>\n",
       "      <td>3.45</td>\n",
       "      <td>14900.0</td>\n",
       "      <td>0.400</td>\n",
       "      <td>3.43</td>\n",
       "      <td>250.630782</td>\n",
       "      <td>0.00400</td>\n",
       "    </tr>\n",
       "  </tbody>\n",
       "</table>\n",
       "</div>"
      ],
      "text/plain": [
       "     Position (mm)  Force (N)  Strain (%)  Time (min)      Tensão  Abs Strain\n",
       "686           3.39    15000.0       0.301        3.37  252.312868     0.00301\n",
       "687           3.40    15000.0       0.308        3.38  252.312868     0.00308\n",
       "688           3.40    15000.0       0.317        3.38  252.312868     0.00317\n",
       "689           3.41    14900.0       0.327        3.39  250.630782     0.00327\n",
       "690           3.41    14900.0       0.336        3.39  250.630782     0.00336\n",
       "691           3.42    14900.0       0.345        3.40  250.630782     0.00345\n",
       "692           3.42    14900.0       0.354        3.40  250.630782     0.00354\n",
       "693           3.43    14900.0       0.363        3.41  250.630782     0.00363\n",
       "694           3.43    14900.0       0.371        3.41  250.630782     0.00371\n",
       "695           3.44    14900.0       0.381        3.42  250.630782     0.00381\n",
       "696           3.44    14900.0       0.390        3.42  250.630782     0.00390\n",
       "697           3.45    14900.0       0.400        3.43  250.630782     0.00400"
      ]
     },
     "execution_count": 12,
     "metadata": {},
     "output_type": "execute_result"
    }
   ],
   "source": [
    "ensaio2[686:698]"
   ]
  },
  {
   "cell_type": "markdown",
   "metadata": {},
   "source": [
    "## Resultados"
   ]
  },
  {
   "cell_type": "markdown",
   "metadata": {},
   "source": [
    "Consultando ambos os dataframes e os gráficos, pode-se cocluir que o limite de escoamento é de 249.62 MPa para o primeiro ensaio e \n",
    "258.22 MPa para o segundo ensaio."
   ]
  }
 ],
 "metadata": {
  "kernelspec": {
   "display_name": "Python 3",
   "language": "python",
   "name": "python3"
  },
  "language_info": {
   "codemirror_mode": {
    "name": "ipython",
    "version": 3
   },
   "file_extension": ".py",
   "mimetype": "text/x-python",
   "name": "python",
   "nbconvert_exporter": "python",
   "pygments_lexer": "ipython3",
   "version": "3.5.1"
  }
 },
 "nbformat": 4,
 "nbformat_minor": 0
}
